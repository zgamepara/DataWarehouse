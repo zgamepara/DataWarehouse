{
  "nbformat": 4,
  "nbformat_minor": 0,
  "metadata": {
    "colab": {
      "name": "Week11.ipynb",
      "provenance": [],
      "collapsed_sections": [],
      "include_colab_link": true
    },
    "kernelspec": {
      "name": "python3",
      "display_name": "Python 3"
    }
  },
  "cells": [
    {
      "cell_type": "markdown",
      "metadata": {
        "id": "view-in-github",
        "colab_type": "text"
      },
      "source": [
        "<a href=\"https://colab.research.google.com/github/zgamepara/DataWarehouse/blob/master/Week11.ipynb\" target=\"_parent\"><img src=\"https://colab.research.google.com/assets/colab-badge.svg\" alt=\"Open In Colab\"/></a>"
      ]
    },
    {
      "cell_type": "code",
      "metadata": {
        "id": "4FH83i-Xshex",
        "colab_type": "code",
        "colab": {}
      },
      "source": [
        "import pandas as pd"
      ],
      "execution_count": 0,
      "outputs": []
    },
    {
      "cell_type": "code",
      "metadata": {
        "id": "oLemkg4jtgz6",
        "colab_type": "code",
        "outputId": "fa44c640-8a62-4af4-e0cd-4f6fad70677d",
        "colab": {
          "base_uri": "https://localhost:8080/",
          "height": 266
        }
      },
      "source": [
        "df_train =pd.read_csv('https://raw.githubusercontent.com/Oatchanon/DW/master/DIPEP.csv' ,header=None)\n",
        "df_train.head()"
      ],
      "execution_count": 0,
      "outputs": [
        {
          "output_type": "execute_result",
          "data": {
            "text/html": [
              "<div>\n",
              "<style scoped>\n",
              "    .dataframe tbody tr th:only-of-type {\n",
              "        vertical-align: middle;\n",
              "    }\n",
              "\n",
              "    .dataframe tbody tr th {\n",
              "        vertical-align: top;\n",
              "    }\n",
              "\n",
              "    .dataframe thead th {\n",
              "        text-align: right;\n",
              "    }\n",
              "</style>\n",
              "<table border=\"1\" class=\"dataframe\">\n",
              "  <thead>\n",
              "    <tr style=\"text-align: right;\">\n",
              "      <th></th>\n",
              "      <th>0</th>\n",
              "      <th>1</th>\n",
              "      <th>2</th>\n",
              "      <th>3</th>\n",
              "      <th>4</th>\n",
              "      <th>5</th>\n",
              "      <th>6</th>\n",
              "      <th>7</th>\n",
              "      <th>8</th>\n",
              "      <th>9</th>\n",
              "      <th>10</th>\n",
              "      <th>11</th>\n",
              "      <th>12</th>\n",
              "      <th>13</th>\n",
              "      <th>14</th>\n",
              "      <th>15</th>\n",
              "      <th>16</th>\n",
              "      <th>17</th>\n",
              "      <th>18</th>\n",
              "      <th>19</th>\n",
              "      <th>20</th>\n",
              "      <th>21</th>\n",
              "      <th>22</th>\n",
              "      <th>23</th>\n",
              "      <th>24</th>\n",
              "      <th>25</th>\n",
              "      <th>26</th>\n",
              "      <th>27</th>\n",
              "      <th>28</th>\n",
              "      <th>29</th>\n",
              "      <th>30</th>\n",
              "      <th>31</th>\n",
              "      <th>32</th>\n",
              "      <th>33</th>\n",
              "      <th>34</th>\n",
              "      <th>35</th>\n",
              "      <th>36</th>\n",
              "      <th>37</th>\n",
              "      <th>38</th>\n",
              "      <th>39</th>\n",
              "      <th>...</th>\n",
              "      <th>361</th>\n",
              "      <th>362</th>\n",
              "      <th>363</th>\n",
              "      <th>364</th>\n",
              "      <th>365</th>\n",
              "      <th>366</th>\n",
              "      <th>367</th>\n",
              "      <th>368</th>\n",
              "      <th>369</th>\n",
              "      <th>370</th>\n",
              "      <th>371</th>\n",
              "      <th>372</th>\n",
              "      <th>373</th>\n",
              "      <th>374</th>\n",
              "      <th>375</th>\n",
              "      <th>376</th>\n",
              "      <th>377</th>\n",
              "      <th>378</th>\n",
              "      <th>379</th>\n",
              "      <th>380</th>\n",
              "      <th>381</th>\n",
              "      <th>382</th>\n",
              "      <th>383</th>\n",
              "      <th>384</th>\n",
              "      <th>385</th>\n",
              "      <th>386</th>\n",
              "      <th>387</th>\n",
              "      <th>388</th>\n",
              "      <th>389</th>\n",
              "      <th>390</th>\n",
              "      <th>391</th>\n",
              "      <th>392</th>\n",
              "      <th>393</th>\n",
              "      <th>394</th>\n",
              "      <th>395</th>\n",
              "      <th>396</th>\n",
              "      <th>397</th>\n",
              "      <th>398</th>\n",
              "      <th>399</th>\n",
              "      <th>400</th>\n",
              "    </tr>\n",
              "  </thead>\n",
              "  <tbody>\n",
              "    <tr>\n",
              "      <th>0</th>\n",
              "      <td>0</td>\n",
              "      <td>-1.0</td>\n",
              "      <td>-1.00</td>\n",
              "      <td>-1.000000</td>\n",
              "      <td>-1.0</td>\n",
              "      <td>-1.00000</td>\n",
              "      <td>-1.000000</td>\n",
              "      <td>-1.0</td>\n",
              "      <td>-1.0</td>\n",
              "      <td>-1.000000</td>\n",
              "      <td>-1.000000</td>\n",
              "      <td>-1.000000</td>\n",
              "      <td>-1.000000</td>\n",
              "      <td>-1.000000</td>\n",
              "      <td>-1.000000</td>\n",
              "      <td>-1.000000</td>\n",
              "      <td>-1.0</td>\n",
              "      <td>-1.000000</td>\n",
              "      <td>-0.845426</td>\n",
              "      <td>-0.766562</td>\n",
              "      <td>-1.0</td>\n",
              "      <td>-1.000000</td>\n",
              "      <td>-0.627760</td>\n",
              "      <td>-1.0</td>\n",
              "      <td>-0.899054</td>\n",
              "      <td>-0.899054</td>\n",
              "      <td>-1.000000</td>\n",
              "      <td>-1.000000</td>\n",
              "      <td>-0.922713</td>\n",
              "      <td>-1.0</td>\n",
              "      <td>-1.0</td>\n",
              "      <td>-1.000000</td>\n",
              "      <td>-0.776025</td>\n",
              "      <td>-1.0</td>\n",
              "      <td>-0.492744</td>\n",
              "      <td>-0.944006</td>\n",
              "      <td>-1.00000</td>\n",
              "      <td>-1.0</td>\n",
              "      <td>0.194533</td>\n",
              "      <td>-1.0</td>\n",
              "      <td>...</td>\n",
              "      <td>-1.000000</td>\n",
              "      <td>-1.000000</td>\n",
              "      <td>-1.000000</td>\n",
              "      <td>-0.838710</td>\n",
              "      <td>-0.814516</td>\n",
              "      <td>-1.000000</td>\n",
              "      <td>-1.00000</td>\n",
              "      <td>-0.909677</td>\n",
              "      <td>-1.0</td>\n",
              "      <td>-1.0</td>\n",
              "      <td>-1.000000</td>\n",
              "      <td>-0.732258</td>\n",
              "      <td>-0.161337</td>\n",
              "      <td>0.561357</td>\n",
              "      <td>0.306910</td>\n",
              "      <td>0.417299</td>\n",
              "      <td>0.295314</td>\n",
              "      <td>0.592005</td>\n",
              "      <td>0.369489</td>\n",
              "      <td>-1.0</td>\n",
              "      <td>-0.738512</td>\n",
              "      <td>-1.000000</td>\n",
              "      <td>-1.000000</td>\n",
              "      <td>-0.756203</td>\n",
              "      <td>-1.000000</td>\n",
              "      <td>-0.663431</td>\n",
              "      <td>-1.000000</td>\n",
              "      <td>-1.000000</td>\n",
              "      <td>-1.000000</td>\n",
              "      <td>-1.00000</td>\n",
              "      <td>-1.0</td>\n",
              "      <td>-1.0</td>\n",
              "      <td>-0.148221</td>\n",
              "      <td>-1.000000</td>\n",
              "      <td>-1.000000</td>\n",
              "      <td>-1.000000</td>\n",
              "      <td>-0.754045</td>\n",
              "      <td>-1.000000</td>\n",
              "      <td>-0.718446</td>\n",
              "      <td>-1.0</td>\n",
              "    </tr>\n",
              "    <tr>\n",
              "      <th>1</th>\n",
              "      <td>0</td>\n",
              "      <td>-1.0</td>\n",
              "      <td>-1.00</td>\n",
              "      <td>-1.000000</td>\n",
              "      <td>-1.0</td>\n",
              "      <td>-0.82691</td>\n",
              "      <td>-0.632182</td>\n",
              "      <td>-1.0</td>\n",
              "      <td>-1.0</td>\n",
              "      <td>-0.720307</td>\n",
              "      <td>-1.000000</td>\n",
              "      <td>-1.000000</td>\n",
              "      <td>-0.706026</td>\n",
              "      <td>-1.000000</td>\n",
              "      <td>-0.727969</td>\n",
              "      <td>-0.616858</td>\n",
              "      <td>-1.0</td>\n",
              "      <td>-1.000000</td>\n",
              "      <td>-0.624521</td>\n",
              "      <td>-0.149421</td>\n",
              "      <td>-1.0</td>\n",
              "      <td>-0.757343</td>\n",
              "      <td>-0.547893</td>\n",
              "      <td>-1.0</td>\n",
              "      <td>-1.000000</td>\n",
              "      <td>-0.877395</td>\n",
              "      <td>-0.716475</td>\n",
              "      <td>-1.000000</td>\n",
              "      <td>-0.906130</td>\n",
              "      <td>-1.0</td>\n",
              "      <td>-1.0</td>\n",
              "      <td>-0.823755</td>\n",
              "      <td>-0.727969</td>\n",
              "      <td>-1.0</td>\n",
              "      <td>-0.794636</td>\n",
              "      <td>-0.931992</td>\n",
              "      <td>-1.00000</td>\n",
              "      <td>-1.0</td>\n",
              "      <td>-0.637292</td>\n",
              "      <td>-1.0</td>\n",
              "      <td>...</td>\n",
              "      <td>-1.000000</td>\n",
              "      <td>-0.901070</td>\n",
              "      <td>-1.000000</td>\n",
              "      <td>-0.803149</td>\n",
              "      <td>-0.773622</td>\n",
              "      <td>-1.000000</td>\n",
              "      <td>-1.00000</td>\n",
              "      <td>-1.000000</td>\n",
              "      <td>-1.0</td>\n",
              "      <td>-1.0</td>\n",
              "      <td>-1.000000</td>\n",
              "      <td>-1.000000</td>\n",
              "      <td>-0.015843</td>\n",
              "      <td>0.601577</td>\n",
              "      <td>0.219110</td>\n",
              "      <td>0.279425</td>\n",
              "      <td>0.168641</td>\n",
              "      <td>0.401512</td>\n",
              "      <td>0.213811</td>\n",
              "      <td>-1.0</td>\n",
              "      <td>-0.840316</td>\n",
              "      <td>-1.000000</td>\n",
              "      <td>-1.000000</td>\n",
              "      <td>-1.000000</td>\n",
              "      <td>-0.450593</td>\n",
              "      <td>-0.588933</td>\n",
              "      <td>-1.000000</td>\n",
              "      <td>-1.000000</td>\n",
              "      <td>-0.707510</td>\n",
              "      <td>-0.72332</td>\n",
              "      <td>-1.0</td>\n",
              "      <td>-1.0</td>\n",
              "      <td>-0.554151</td>\n",
              "      <td>-1.000000</td>\n",
              "      <td>-0.936759</td>\n",
              "      <td>-0.640316</td>\n",
              "      <td>-1.000000</td>\n",
              "      <td>-0.312254</td>\n",
              "      <td>-1.000000</td>\n",
              "      <td>-1.0</td>\n",
              "    </tr>\n",
              "    <tr>\n",
              "      <th>2</th>\n",
              "      <td>0</td>\n",
              "      <td>-1.0</td>\n",
              "      <td>-0.84</td>\n",
              "      <td>-0.820690</td>\n",
              "      <td>-1.0</td>\n",
              "      <td>-1.00000</td>\n",
              "      <td>-1.000000</td>\n",
              "      <td>-1.0</td>\n",
              "      <td>-1.0</td>\n",
              "      <td>-0.635001</td>\n",
              "      <td>-1.000000</td>\n",
              "      <td>-1.000000</td>\n",
              "      <td>-0.808182</td>\n",
              "      <td>-0.763333</td>\n",
              "      <td>-0.645000</td>\n",
              "      <td>-1.000000</td>\n",
              "      <td>-1.0</td>\n",
              "      <td>-0.553333</td>\n",
              "      <td>-0.510000</td>\n",
              "      <td>-1.000000</td>\n",
              "      <td>-1.0</td>\n",
              "      <td>-1.000000</td>\n",
              "      <td>-0.410000</td>\n",
              "      <td>-1.0</td>\n",
              "      <td>-1.000000</td>\n",
              "      <td>-0.840000</td>\n",
              "      <td>-0.630000</td>\n",
              "      <td>-0.570000</td>\n",
              "      <td>-0.632500</td>\n",
              "      <td>-1.0</td>\n",
              "      <td>-1.0</td>\n",
              "      <td>-0.770000</td>\n",
              "      <td>-1.000000</td>\n",
              "      <td>-1.0</td>\n",
              "      <td>-0.195999</td>\n",
              "      <td>-0.911250</td>\n",
              "      <td>-1.00000</td>\n",
              "      <td>-1.0</td>\n",
              "      <td>-0.290000</td>\n",
              "      <td>-1.0</td>\n",
              "      <td>...</td>\n",
              "      <td>-0.523315</td>\n",
              "      <td>-1.000000</td>\n",
              "      <td>-0.746114</td>\n",
              "      <td>-0.740932</td>\n",
              "      <td>-1.000000</td>\n",
              "      <td>-0.713299</td>\n",
              "      <td>-0.70639</td>\n",
              "      <td>-1.000000</td>\n",
              "      <td>-1.0</td>\n",
              "      <td>-1.0</td>\n",
              "      <td>-0.575129</td>\n",
              "      <td>-1.000000</td>\n",
              "      <td>-0.352132</td>\n",
              "      <td>0.506076</td>\n",
              "      <td>0.169669</td>\n",
              "      <td>0.305271</td>\n",
              "      <td>0.174982</td>\n",
              "      <td>0.300040</td>\n",
              "      <td>0.573216</td>\n",
              "      <td>-1.0</td>\n",
              "      <td>-1.000000</td>\n",
              "      <td>-0.684028</td>\n",
              "      <td>-0.645834</td>\n",
              "      <td>-1.000000</td>\n",
              "      <td>-0.638021</td>\n",
              "      <td>-1.000000</td>\n",
              "      <td>-1.000000</td>\n",
              "      <td>-1.000000</td>\n",
              "      <td>-1.000000</td>\n",
              "      <td>-1.00000</td>\n",
              "      <td>-1.0</td>\n",
              "      <td>-1.0</td>\n",
              "      <td>-0.608332</td>\n",
              "      <td>-0.916667</td>\n",
              "      <td>-1.000000</td>\n",
              "      <td>-0.763021</td>\n",
              "      <td>-1.000000</td>\n",
              "      <td>-1.000000</td>\n",
              "      <td>-1.000000</td>\n",
              "      <td>-1.0</td>\n",
              "    </tr>\n",
              "    <tr>\n",
              "      <th>3</th>\n",
              "      <td>0</td>\n",
              "      <td>-1.0</td>\n",
              "      <td>-1.00</td>\n",
              "      <td>-0.886152</td>\n",
              "      <td>-1.0</td>\n",
              "      <td>-1.00000</td>\n",
              "      <td>-0.796825</td>\n",
              "      <td>-1.0</td>\n",
              "      <td>-1.0</td>\n",
              "      <td>-1.000000</td>\n",
              "      <td>-1.000000</td>\n",
              "      <td>-0.774603</td>\n",
              "      <td>-0.878211</td>\n",
              "      <td>-1.000000</td>\n",
              "      <td>-1.000000</td>\n",
              "      <td>-0.841270</td>\n",
              "      <td>-1.0</td>\n",
              "      <td>-1.000000</td>\n",
              "      <td>-0.844444</td>\n",
              "      <td>-0.765079</td>\n",
              "      <td>-0.8</td>\n",
              "      <td>-0.597883</td>\n",
              "      <td>-1.000000</td>\n",
              "      <td>-1.0</td>\n",
              "      <td>-1.000000</td>\n",
              "      <td>-1.000000</td>\n",
              "      <td>-0.765079</td>\n",
              "      <td>-0.726984</td>\n",
              "      <td>-1.000000</td>\n",
              "      <td>-1.0</td>\n",
              "      <td>-1.0</td>\n",
              "      <td>-1.000000</td>\n",
              "      <td>-0.774603</td>\n",
              "      <td>-1.0</td>\n",
              "      <td>-0.489523</td>\n",
              "      <td>-0.887301</td>\n",
              "      <td>-1.00000</td>\n",
              "      <td>-1.0</td>\n",
              "      <td>-0.699471</td>\n",
              "      <td>-1.0</td>\n",
              "      <td>...</td>\n",
              "      <td>-1.000000</td>\n",
              "      <td>-1.000000</td>\n",
              "      <td>-1.000000</td>\n",
              "      <td>-0.837662</td>\n",
              "      <td>-0.813312</td>\n",
              "      <td>-1.000000</td>\n",
              "      <td>-1.00000</td>\n",
              "      <td>-0.909091</td>\n",
              "      <td>-1.0</td>\n",
              "      <td>-1.0</td>\n",
              "      <td>-1.000000</td>\n",
              "      <td>-1.000000</td>\n",
              "      <td>-0.300250</td>\n",
              "      <td>0.608615</td>\n",
              "      <td>-0.053491</td>\n",
              "      <td>0.004019</td>\n",
              "      <td>-0.131008</td>\n",
              "      <td>0.500843</td>\n",
              "      <td>0.066466</td>\n",
              "      <td>-1.0</td>\n",
              "      <td>-0.736808</td>\n",
              "      <td>-0.802388</td>\n",
              "      <td>-1.000000</td>\n",
              "      <td>-1.000000</td>\n",
              "      <td>-1.000000</td>\n",
              "      <td>-1.000000</td>\n",
              "      <td>-0.846254</td>\n",
              "      <td>-0.697069</td>\n",
              "      <td>-0.758957</td>\n",
              "      <td>-1.00000</td>\n",
              "      <td>-1.0</td>\n",
              "      <td>-1.0</td>\n",
              "      <td>-0.387624</td>\n",
              "      <td>-1.000000</td>\n",
              "      <td>-0.895765</td>\n",
              "      <td>-0.703583</td>\n",
              "      <td>-1.000000</td>\n",
              "      <td>-0.811075</td>\n",
              "      <td>-0.716612</td>\n",
              "      <td>-1.0</td>\n",
              "    </tr>\n",
              "    <tr>\n",
              "      <th>4</th>\n",
              "      <td>0</td>\n",
              "      <td>-1.0</td>\n",
              "      <td>-1.00</td>\n",
              "      <td>-0.774452</td>\n",
              "      <td>-1.0</td>\n",
              "      <td>-1.00000</td>\n",
              "      <td>-0.798742</td>\n",
              "      <td>-1.0</td>\n",
              "      <td>-1.0</td>\n",
              "      <td>-1.000000</td>\n",
              "      <td>-0.308175</td>\n",
              "      <td>-1.000000</td>\n",
              "      <td>-0.758719</td>\n",
              "      <td>-1.000000</td>\n",
              "      <td>-1.000000</td>\n",
              "      <td>-1.000000</td>\n",
              "      <td>-1.0</td>\n",
              "      <td>-0.719077</td>\n",
              "      <td>-1.000000</td>\n",
              "      <td>-1.000000</td>\n",
              "      <td>-1.0</td>\n",
              "      <td>-1.000000</td>\n",
              "      <td>-0.851572</td>\n",
              "      <td>-1.0</td>\n",
              "      <td>-1.000000</td>\n",
              "      <td>-1.000000</td>\n",
              "      <td>-0.534591</td>\n",
              "      <td>-1.000000</td>\n",
              "      <td>-1.000000</td>\n",
              "      <td>-1.0</td>\n",
              "      <td>-1.0</td>\n",
              "      <td>-0.421385</td>\n",
              "      <td>-1.000000</td>\n",
              "      <td>-1.0</td>\n",
              "      <td>-0.662893</td>\n",
              "      <td>-1.000000</td>\n",
              "      <td>-0.60587</td>\n",
              "      <td>-1.0</td>\n",
              "      <td>-1.000000</td>\n",
              "      <td>-1.0</td>\n",
              "      <td>...</td>\n",
              "      <td>-1.000000</td>\n",
              "      <td>-0.834683</td>\n",
              "      <td>-0.355262</td>\n",
              "      <td>-1.000000</td>\n",
              "      <td>-1.000000</td>\n",
              "      <td>-0.635965</td>\n",
              "      <td>-1.00000</td>\n",
              "      <td>-0.815789</td>\n",
              "      <td>-1.0</td>\n",
              "      <td>-1.0</td>\n",
              "      <td>-1.000000</td>\n",
              "      <td>-1.000000</td>\n",
              "      <td>-0.113945</td>\n",
              "      <td>0.424972</td>\n",
              "      <td>0.100080</td>\n",
              "      <td>0.125354</td>\n",
              "      <td>0.061004</td>\n",
              "      <td>0.158495</td>\n",
              "      <td>0.412597</td>\n",
              "      <td>-1.0</td>\n",
              "      <td>-0.732450</td>\n",
              "      <td>-1.000000</td>\n",
              "      <td>-0.549669</td>\n",
              "      <td>-1.000000</td>\n",
              "      <td>-1.000000</td>\n",
              "      <td>-0.311259</td>\n",
              "      <td>-1.000000</td>\n",
              "      <td>-1.000000</td>\n",
              "      <td>-1.000000</td>\n",
              "      <td>-1.00000</td>\n",
              "      <td>-1.0</td>\n",
              "      <td>-1.0</td>\n",
              "      <td>-1.000000</td>\n",
              "      <td>-0.894040</td>\n",
              "      <td>-0.894040</td>\n",
              "      <td>-1.000000</td>\n",
              "      <td>-0.496689</td>\n",
              "      <td>-1.000000</td>\n",
              "      <td>-1.000000</td>\n",
              "      <td>-1.0</td>\n",
              "    </tr>\n",
              "  </tbody>\n",
              "</table>\n",
              "<p>5 rows × 401 columns</p>\n",
              "</div>"
            ],
            "text/plain": [
              "   0    1     2         3    4    ...       396       397       398       399  400\n",
              "0    0 -1.0 -1.00 -1.000000 -1.0  ... -1.000000 -0.754045 -1.000000 -0.718446 -1.0\n",
              "1    0 -1.0 -1.00 -1.000000 -1.0  ... -0.640316 -1.000000 -0.312254 -1.000000 -1.0\n",
              "2    0 -1.0 -0.84 -0.820690 -1.0  ... -0.763021 -1.000000 -1.000000 -1.000000 -1.0\n",
              "3    0 -1.0 -1.00 -0.886152 -1.0  ... -0.703583 -1.000000 -0.811075 -0.716612 -1.0\n",
              "4    0 -1.0 -1.00 -0.774452 -1.0  ... -1.000000 -0.496689 -1.000000 -1.000000 -1.0\n",
              "\n",
              "[5 rows x 401 columns]"
            ]
          },
          "metadata": {
            "tags": []
          },
          "execution_count": 460
        }
      ]
    },
    {
      "cell_type": "code",
      "metadata": {
        "id": "xCTM-VQEuPkp",
        "colab_type": "code",
        "outputId": "3fd15b14-cca8-4195-f1a0-7bccb3480655",
        "colab": {
          "base_uri": "https://localhost:8080/",
          "height": 34
        }
      },
      "source": [
        "df_clean =df_train.dropna()\n",
        "df_clean.shape"
      ],
      "execution_count": 0,
      "outputs": [
        {
          "output_type": "execute_result",
          "data": {
            "text/plain": [
              "(3587, 401)"
            ]
          },
          "metadata": {
            "tags": []
          },
          "execution_count": 461
        }
      ]
    },
    {
      "cell_type": "code",
      "metadata": {
        "id": "vJOktyl4u2Vf",
        "colab_type": "code",
        "outputId": "35101b0c-29f7-493b-c7c1-50865d029628",
        "colab": {
          "base_uri": "https://localhost:8080/",
          "height": 232
        }
      },
      "source": [
        "df_clean.dtypes"
      ],
      "execution_count": 0,
      "outputs": [
        {
          "output_type": "execute_result",
          "data": {
            "text/plain": [
              "0        int64\n",
              "1      float64\n",
              "2      float64\n",
              "3      float64\n",
              "4      float64\n",
              "        ...   \n",
              "396    float64\n",
              "397    float64\n",
              "398    float64\n",
              "399    float64\n",
              "400    float64\n",
              "Length: 401, dtype: object"
            ]
          },
          "metadata": {
            "tags": []
          },
          "execution_count": 462
        }
      ]
    },
    {
      "cell_type": "code",
      "metadata": {
        "id": "318b62PqvGMe",
        "colab_type": "code",
        "colab": {}
      },
      "source": [
        "y=df_clean.iloc[:,0]\n",
        "X=df_clean.iloc[:,1:401]"
      ],
      "execution_count": 0,
      "outputs": []
    },
    {
      "cell_type": "code",
      "metadata": {
        "id": "HqILt18evbrf",
        "colab_type": "code",
        "outputId": "c3bc5f9e-42bc-4d2f-fad8-36ab3cdec912",
        "colab": {
          "base_uri": "https://localhost:8080/",
          "height": 34
        }
      },
      "source": [
        "x.shape"
      ],
      "execution_count": 0,
      "outputs": [
        {
          "output_type": "execute_result",
          "data": {
            "text/plain": [
              "(3587, 400)"
            ]
          },
          "metadata": {
            "tags": []
          },
          "execution_count": 464
        }
      ]
    },
    {
      "cell_type": "code",
      "metadata": {
        "id": "pNGln7nmveJX",
        "colab_type": "code",
        "outputId": "a450ccb0-4653-4149-d36d-d1059dde8ab9",
        "colab": {
          "base_uri": "https://localhost:8080/",
          "height": 34
        }
      },
      "source": [
        "y.shape"
      ],
      "execution_count": 0,
      "outputs": [
        {
          "output_type": "execute_result",
          "data": {
            "text/plain": [
              "(3587,)"
            ]
          },
          "metadata": {
            "tags": []
          },
          "execution_count": 465
        }
      ]
    },
    {
      "cell_type": "code",
      "metadata": {
        "id": "8RzgztJQv3zl",
        "colab_type": "code",
        "colab": {}
      },
      "source": [
        "from sklearn.model_selection import train_test_split"
      ],
      "execution_count": 0,
      "outputs": []
    },
    {
      "cell_type": "code",
      "metadata": {
        "id": "JsacXc19wPRW",
        "colab_type": "code",
        "colab": {}
      },
      "source": [
        "X_train, X_val, y_train, y_val = train_test_split(\n",
        " X, y, test_size=0.25, random_state=0)"
      ],
      "execution_count": 0,
      "outputs": []
    },
    {
      "cell_type": "code",
      "metadata": {
        "id": "-ojApwZmwsXd",
        "colab_type": "code",
        "outputId": "be95c2fa-a16b-4254-d85d-6967ef6256d8",
        "colab": {
          "base_uri": "https://localhost:8080/",
          "height": 464
        }
      },
      "source": [
        "X_train"
      ],
      "execution_count": 0,
      "outputs": [
        {
          "output_type": "execute_result",
          "data": {
            "text/html": [
              "<div>\n",
              "<style scoped>\n",
              "    .dataframe tbody tr th:only-of-type {\n",
              "        vertical-align: middle;\n",
              "    }\n",
              "\n",
              "    .dataframe tbody tr th {\n",
              "        vertical-align: top;\n",
              "    }\n",
              "\n",
              "    .dataframe thead th {\n",
              "        text-align: right;\n",
              "    }\n",
              "</style>\n",
              "<table border=\"1\" class=\"dataframe\">\n",
              "  <thead>\n",
              "    <tr style=\"text-align: right;\">\n",
              "      <th></th>\n",
              "      <th>1</th>\n",
              "      <th>2</th>\n",
              "      <th>3</th>\n",
              "      <th>4</th>\n",
              "      <th>5</th>\n",
              "      <th>6</th>\n",
              "      <th>7</th>\n",
              "      <th>8</th>\n",
              "      <th>9</th>\n",
              "      <th>10</th>\n",
              "      <th>11</th>\n",
              "      <th>12</th>\n",
              "      <th>13</th>\n",
              "      <th>14</th>\n",
              "      <th>15</th>\n",
              "      <th>16</th>\n",
              "      <th>17</th>\n",
              "      <th>18</th>\n",
              "      <th>19</th>\n",
              "      <th>20</th>\n",
              "      <th>21</th>\n",
              "      <th>22</th>\n",
              "      <th>23</th>\n",
              "      <th>24</th>\n",
              "      <th>25</th>\n",
              "      <th>26</th>\n",
              "      <th>27</th>\n",
              "      <th>28</th>\n",
              "      <th>29</th>\n",
              "      <th>30</th>\n",
              "      <th>31</th>\n",
              "      <th>32</th>\n",
              "      <th>33</th>\n",
              "      <th>34</th>\n",
              "      <th>35</th>\n",
              "      <th>36</th>\n",
              "      <th>37</th>\n",
              "      <th>38</th>\n",
              "      <th>39</th>\n",
              "      <th>40</th>\n",
              "      <th>...</th>\n",
              "      <th>361</th>\n",
              "      <th>362</th>\n",
              "      <th>363</th>\n",
              "      <th>364</th>\n",
              "      <th>365</th>\n",
              "      <th>366</th>\n",
              "      <th>367</th>\n",
              "      <th>368</th>\n",
              "      <th>369</th>\n",
              "      <th>370</th>\n",
              "      <th>371</th>\n",
              "      <th>372</th>\n",
              "      <th>373</th>\n",
              "      <th>374</th>\n",
              "      <th>375</th>\n",
              "      <th>376</th>\n",
              "      <th>377</th>\n",
              "      <th>378</th>\n",
              "      <th>379</th>\n",
              "      <th>380</th>\n",
              "      <th>381</th>\n",
              "      <th>382</th>\n",
              "      <th>383</th>\n",
              "      <th>384</th>\n",
              "      <th>385</th>\n",
              "      <th>386</th>\n",
              "      <th>387</th>\n",
              "      <th>388</th>\n",
              "      <th>389</th>\n",
              "      <th>390</th>\n",
              "      <th>391</th>\n",
              "      <th>392</th>\n",
              "      <th>393</th>\n",
              "      <th>394</th>\n",
              "      <th>395</th>\n",
              "      <th>396</th>\n",
              "      <th>397</th>\n",
              "      <th>398</th>\n",
              "      <th>399</th>\n",
              "      <th>400</th>\n",
              "    </tr>\n",
              "  </thead>\n",
              "  <tbody>\n",
              "    <tr>\n",
              "      <th>3174</th>\n",
              "      <td>-1.0</td>\n",
              "      <td>-0.960445</td>\n",
              "      <td>-0.955671</td>\n",
              "      <td>-1.000000</td>\n",
              "      <td>-0.888315</td>\n",
              "      <td>-0.723115</td>\n",
              "      <td>-1.000000</td>\n",
              "      <td>-0.648949</td>\n",
              "      <td>-0.819530</td>\n",
              "      <td>-1.0</td>\n",
              "      <td>-1.000000</td>\n",
              "      <td>-0.762895</td>\n",
              "      <td>-0.882983</td>\n",
              "      <td>-0.912238</td>\n",
              "      <td>-0.690976</td>\n",
              "      <td>-1.000000</td>\n",
              "      <td>-0.889575</td>\n",
              "      <td>-0.878863</td>\n",
              "      <td>-1.000000</td>\n",
              "      <td>-0.922126</td>\n",
              "      <td>-0.921714</td>\n",
              "      <td>-1.000000</td>\n",
              "      <td>-1.000000</td>\n",
              "      <td>-0.841780</td>\n",
              "      <td>-0.762670</td>\n",
              "      <td>-0.908529</td>\n",
              "      <td>-0.893696</td>\n",
              "      <td>-0.848579</td>\n",
              "      <td>-1.0</td>\n",
              "      <td>-0.960445</td>\n",
              "      <td>-0.943140</td>\n",
              "      <td>-1.000000</td>\n",
              "      <td>-0.765142</td>\n",
              "      <td>-0.867490</td>\n",
              "      <td>-0.912237</td>\n",
              "      <td>-0.612691</td>\n",
              "      <td>-1.000000</td>\n",
              "      <td>-0.882983</td>\n",
              "      <td>-0.693449</td>\n",
              "      <td>-0.916564</td>\n",
              "      <td>...</td>\n",
              "      <td>-1.00000</td>\n",
              "      <td>-0.937336</td>\n",
              "      <td>-1.000000</td>\n",
              "      <td>-0.875312</td>\n",
              "      <td>-1.000000</td>\n",
              "      <td>-0.862011</td>\n",
              "      <td>-0.858686</td>\n",
              "      <td>-0.895262</td>\n",
              "      <td>-1.000000</td>\n",
              "      <td>-1.000000</td>\n",
              "      <td>-0.591022</td>\n",
              "      <td>-0.689526</td>\n",
              "      <td>-0.104385</td>\n",
              "      <td>0.854892</td>\n",
              "      <td>0.137724</td>\n",
              "      <td>0.203417</td>\n",
              "      <td>0.081004</td>\n",
              "      <td>0.857477</td>\n",
              "      <td>0.118767</td>\n",
              "      <td>-1.0</td>\n",
              "      <td>-0.848689</td>\n",
              "      <td>-0.924261</td>\n",
              "      <td>-0.745319</td>\n",
              "      <td>-1.000000</td>\n",
              "      <td>-1.000000</td>\n",
              "      <td>-1.0</td>\n",
              "      <td>-0.941074</td>\n",
              "      <td>-1.000000</td>\n",
              "      <td>-1.000000</td>\n",
              "      <td>-1.0</td>\n",
              "      <td>-1.0</td>\n",
              "      <td>-0.882647</td>\n",
              "      <td>-0.812235</td>\n",
              "      <td>-1.000000</td>\n",
              "      <td>-0.960050</td>\n",
              "      <td>-0.886392</td>\n",
              "      <td>-0.905119</td>\n",
              "      <td>-1.000000</td>\n",
              "      <td>-1.000000</td>\n",
              "      <td>-1.0</td>\n",
              "    </tr>\n",
              "    <tr>\n",
              "      <th>991</th>\n",
              "      <td>-1.0</td>\n",
              "      <td>-1.000000</td>\n",
              "      <td>-0.825912</td>\n",
              "      <td>-0.449839</td>\n",
              "      <td>-0.780697</td>\n",
              "      <td>-0.844660</td>\n",
              "      <td>-1.000000</td>\n",
              "      <td>-1.000000</td>\n",
              "      <td>-1.000000</td>\n",
              "      <td>-1.0</td>\n",
              "      <td>-1.000000</td>\n",
              "      <td>-0.813769</td>\n",
              "      <td>-1.000000</td>\n",
              "      <td>-0.655340</td>\n",
              "      <td>-1.000000</td>\n",
              "      <td>-0.650486</td>\n",
              "      <td>-0.566343</td>\n",
              "      <td>-1.000000</td>\n",
              "      <td>-1.000000</td>\n",
              "      <td>-1.000000</td>\n",
              "      <td>-1.000000</td>\n",
              "      <td>-0.427186</td>\n",
              "      <td>0.155342</td>\n",
              "      <td>-1.000000</td>\n",
              "      <td>-1.000000</td>\n",
              "      <td>-1.000000</td>\n",
              "      <td>-1.000000</td>\n",
              "      <td>-0.881068</td>\n",
              "      <td>-1.0</td>\n",
              "      <td>-0.844660</td>\n",
              "      <td>-1.000000</td>\n",
              "      <td>-0.310679</td>\n",
              "      <td>-1.000000</td>\n",
              "      <td>-0.479611</td>\n",
              "      <td>-1.000000</td>\n",
              "      <td>-0.695793</td>\n",
              "      <td>-1.000000</td>\n",
              "      <td>-1.000000</td>\n",
              "      <td>-1.000000</td>\n",
              "      <td>-1.000000</td>\n",
              "      <td>...</td>\n",
              "      <td>-1.00000</td>\n",
              "      <td>-1.000000</td>\n",
              "      <td>-1.000000</td>\n",
              "      <td>-0.748744</td>\n",
              "      <td>-0.711055</td>\n",
              "      <td>-1.000000</td>\n",
              "      <td>-1.000000</td>\n",
              "      <td>-1.000000</td>\n",
              "      <td>-1.000000</td>\n",
              "      <td>-1.000000</td>\n",
              "      <td>-0.587939</td>\n",
              "      <td>-1.000000</td>\n",
              "      <td>-0.153154</td>\n",
              "      <td>0.535731</td>\n",
              "      <td>0.031111</td>\n",
              "      <td>0.086514</td>\n",
              "      <td>-0.020146</td>\n",
              "      <td>0.421502</td>\n",
              "      <td>0.122762</td>\n",
              "      <td>-1.0</td>\n",
              "      <td>-0.795960</td>\n",
              "      <td>-0.693602</td>\n",
              "      <td>-1.000000</td>\n",
              "      <td>-1.000000</td>\n",
              "      <td>-1.000000</td>\n",
              "      <td>-1.0</td>\n",
              "      <td>-1.000000</td>\n",
              "      <td>-1.000000</td>\n",
              "      <td>-0.626262</td>\n",
              "      <td>-1.0</td>\n",
              "      <td>-1.0</td>\n",
              "      <td>-1.000000</td>\n",
              "      <td>-0.430304</td>\n",
              "      <td>-1.000000</td>\n",
              "      <td>-1.000000</td>\n",
              "      <td>-0.770202</td>\n",
              "      <td>-0.616161</td>\n",
              "      <td>-1.000000</td>\n",
              "      <td>-1.000000</td>\n",
              "      <td>-1.0</td>\n",
              "    </tr>\n",
              "    <tr>\n",
              "      <th>3102</th>\n",
              "      <td>-1.0</td>\n",
              "      <td>-0.759398</td>\n",
              "      <td>-1.000000</td>\n",
              "      <td>-0.147871</td>\n",
              "      <td>-1.000000</td>\n",
              "      <td>-1.000000</td>\n",
              "      <td>-1.000000</td>\n",
              "      <td>-1.000000</td>\n",
              "      <td>-1.000000</td>\n",
              "      <td>-1.0</td>\n",
              "      <td>-1.000000</td>\n",
              "      <td>-1.000000</td>\n",
              "      <td>-1.000000</td>\n",
              "      <td>-1.000000</td>\n",
              "      <td>-0.624060</td>\n",
              "      <td>-1.000000</td>\n",
              "      <td>-0.664160</td>\n",
              "      <td>-1.000000</td>\n",
              "      <td>-0.443608</td>\n",
              "      <td>-1.000000</td>\n",
              "      <td>-1.000000</td>\n",
              "      <td>-0.112782</td>\n",
              "      <td>-1.000000</td>\n",
              "      <td>-1.000000</td>\n",
              "      <td>-0.278195</td>\n",
              "      <td>-1.000000</td>\n",
              "      <td>-1.000000</td>\n",
              "      <td>-1.000000</td>\n",
              "      <td>-1.0</td>\n",
              "      <td>-1.000000</td>\n",
              "      <td>-1.000000</td>\n",
              "      <td>0.067670</td>\n",
              "      <td>-1.000000</td>\n",
              "      <td>-0.596992</td>\n",
              "      <td>-1.000000</td>\n",
              "      <td>-1.000000</td>\n",
              "      <td>-1.000000</td>\n",
              "      <td>-0.644110</td>\n",
              "      <td>-1.000000</td>\n",
              "      <td>-1.000000</td>\n",
              "      <td>...</td>\n",
              "      <td>-1.00000</td>\n",
              "      <td>-1.000000</td>\n",
              "      <td>-1.000000</td>\n",
              "      <td>-1.000000</td>\n",
              "      <td>-0.543651</td>\n",
              "      <td>-1.000000</td>\n",
              "      <td>-0.550264</td>\n",
              "      <td>-1.000000</td>\n",
              "      <td>-1.000000</td>\n",
              "      <td>-1.000000</td>\n",
              "      <td>-1.000000</td>\n",
              "      <td>-1.000000</td>\n",
              "      <td>-0.414635</td>\n",
              "      <td>0.317429</td>\n",
              "      <td>0.267685</td>\n",
              "      <td>0.308011</td>\n",
              "      <td>0.176879</td>\n",
              "      <td>-0.013728</td>\n",
              "      <td>0.158567</td>\n",
              "      <td>-1.0</td>\n",
              "      <td>-0.676800</td>\n",
              "      <td>-1.000000</td>\n",
              "      <td>-0.456001</td>\n",
              "      <td>-0.397334</td>\n",
              "      <td>-0.444000</td>\n",
              "      <td>-1.0</td>\n",
              "      <td>-0.622400</td>\n",
              "      <td>-1.000000</td>\n",
              "      <td>-1.000000</td>\n",
              "      <td>-1.0</td>\n",
              "      <td>-1.0</td>\n",
              "      <td>-1.000000</td>\n",
              "      <td>-1.000000</td>\n",
              "      <td>-0.872000</td>\n",
              "      <td>-1.000000</td>\n",
              "      <td>-1.000000</td>\n",
              "      <td>-1.000000</td>\n",
              "      <td>-1.000000</td>\n",
              "      <td>-1.000000</td>\n",
              "      <td>-1.0</td>\n",
              "    </tr>\n",
              "    <tr>\n",
              "      <th>2448</th>\n",
              "      <td>-1.0</td>\n",
              "      <td>-0.867769</td>\n",
              "      <td>-1.000000</td>\n",
              "      <td>-1.000000</td>\n",
              "      <td>-1.000000</td>\n",
              "      <td>-1.000000</td>\n",
              "      <td>-1.000000</td>\n",
              "      <td>-0.413223</td>\n",
              "      <td>-0.698348</td>\n",
              "      <td>-1.0</td>\n",
              "      <td>-1.000000</td>\n",
              "      <td>-1.000000</td>\n",
              "      <td>-0.804408</td>\n",
              "      <td>-1.000000</td>\n",
              "      <td>-0.793389</td>\n",
              "      <td>-1.000000</td>\n",
              "      <td>-0.815427</td>\n",
              "      <td>-1.000000</td>\n",
              "      <td>-0.388429</td>\n",
              "      <td>-0.739669</td>\n",
              "      <td>-0.738292</td>\n",
              "      <td>-1.000000</td>\n",
              "      <td>-1.000000</td>\n",
              "      <td>-0.867769</td>\n",
              "      <td>-1.000000</td>\n",
              "      <td>-0.694215</td>\n",
              "      <td>-1.000000</td>\n",
              "      <td>-1.000000</td>\n",
              "      <td>-1.0</td>\n",
              "      <td>-0.867769</td>\n",
              "      <td>-1.000000</td>\n",
              "      <td>-0.706612</td>\n",
              "      <td>-1.000000</td>\n",
              "      <td>-0.778512</td>\n",
              "      <td>-0.926653</td>\n",
              "      <td>0.035811</td>\n",
              "      <td>-1.000000</td>\n",
              "      <td>-0.804408</td>\n",
              "      <td>-0.743802</td>\n",
              "      <td>-1.000000</td>\n",
              "      <td>...</td>\n",
              "      <td>-0.60851</td>\n",
              "      <td>-1.000000</td>\n",
              "      <td>-1.000000</td>\n",
              "      <td>-1.000000</td>\n",
              "      <td>-0.755319</td>\n",
              "      <td>-0.764539</td>\n",
              "      <td>-0.517730</td>\n",
              "      <td>-0.880851</td>\n",
              "      <td>-0.497874</td>\n",
              "      <td>-1.000000</td>\n",
              "      <td>-1.000000</td>\n",
              "      <td>-0.293617</td>\n",
              "      <td>-0.328521</td>\n",
              "      <td>0.593565</td>\n",
              "      <td>0.246614</td>\n",
              "      <td>0.327773</td>\n",
              "      <td>0.206939</td>\n",
              "      <td>0.371859</td>\n",
              "      <td>0.250432</td>\n",
              "      <td>-1.0</td>\n",
              "      <td>-0.827351</td>\n",
              "      <td>-1.000000</td>\n",
              "      <td>-1.000000</td>\n",
              "      <td>-1.000000</td>\n",
              "      <td>-1.000000</td>\n",
              "      <td>-1.0</td>\n",
              "      <td>-0.798291</td>\n",
              "      <td>-0.602565</td>\n",
              "      <td>-0.683761</td>\n",
              "      <td>-1.0</td>\n",
              "      <td>-1.0</td>\n",
              "      <td>-1.000000</td>\n",
              "      <td>-0.517949</td>\n",
              "      <td>-1.000000</td>\n",
              "      <td>-0.931624</td>\n",
              "      <td>-0.611111</td>\n",
              "      <td>-1.000000</td>\n",
              "      <td>-0.752137</td>\n",
              "      <td>-0.628205</td>\n",
              "      <td>-1.0</td>\n",
              "    </tr>\n",
              "    <tr>\n",
              "      <th>3199</th>\n",
              "      <td>-1.0</td>\n",
              "      <td>-1.000000</td>\n",
              "      <td>-1.000000</td>\n",
              "      <td>-1.000000</td>\n",
              "      <td>-1.000000</td>\n",
              "      <td>-1.000000</td>\n",
              "      <td>-1.000000</td>\n",
              "      <td>-1.000000</td>\n",
              "      <td>-1.000000</td>\n",
              "      <td>-1.0</td>\n",
              "      <td>-0.529801</td>\n",
              "      <td>-0.745936</td>\n",
              "      <td>-0.686534</td>\n",
              "      <td>-1.000000</td>\n",
              "      <td>-1.000000</td>\n",
              "      <td>-1.000000</td>\n",
              "      <td>-1.000000</td>\n",
              "      <td>-0.350995</td>\n",
              "      <td>-0.509933</td>\n",
              "      <td>-1.000000</td>\n",
              "      <td>-1.000000</td>\n",
              "      <td>-0.062252</td>\n",
              "      <td>-1.000000</td>\n",
              "      <td>-1.000000</td>\n",
              "      <td>-0.788079</td>\n",
              "      <td>-1.000000</td>\n",
              "      <td>-1.000000</td>\n",
              "      <td>-0.675498</td>\n",
              "      <td>-1.0</td>\n",
              "      <td>-1.000000</td>\n",
              "      <td>-0.695364</td>\n",
              "      <td>-0.529801</td>\n",
              "      <td>-1.000000</td>\n",
              "      <td>-1.000000</td>\n",
              "      <td>-1.000000</td>\n",
              "      <td>-1.000000</td>\n",
              "      <td>-1.000000</td>\n",
              "      <td>-0.373070</td>\n",
              "      <td>-1.000000</td>\n",
              "      <td>-1.000000</td>\n",
              "      <td>...</td>\n",
              "      <td>-1.00000</td>\n",
              "      <td>-1.000000</td>\n",
              "      <td>-1.000000</td>\n",
              "      <td>-1.000000</td>\n",
              "      <td>-0.600695</td>\n",
              "      <td>-1.000000</td>\n",
              "      <td>-0.212962</td>\n",
              "      <td>-0.805556</td>\n",
              "      <td>-1.000000</td>\n",
              "      <td>-1.000000</td>\n",
              "      <td>-0.430555</td>\n",
              "      <td>-1.000000</td>\n",
              "      <td>-0.332051</td>\n",
              "      <td>0.390462</td>\n",
              "      <td>0.296393</td>\n",
              "      <td>0.403741</td>\n",
              "      <td>0.279656</td>\n",
              "      <td>0.132440</td>\n",
              "      <td>0.313193</td>\n",
              "      <td>-1.0</td>\n",
              "      <td>-1.000000</td>\n",
              "      <td>-1.000000</td>\n",
              "      <td>-0.524476</td>\n",
              "      <td>-1.000000</td>\n",
              "      <td>-1.000000</td>\n",
              "      <td>-1.0</td>\n",
              "      <td>-1.000000</td>\n",
              "      <td>-1.000000</td>\n",
              "      <td>-1.000000</td>\n",
              "      <td>-1.0</td>\n",
              "      <td>-1.0</td>\n",
              "      <td>-1.000000</td>\n",
              "      <td>-1.000000</td>\n",
              "      <td>-0.888112</td>\n",
              "      <td>-1.000000</td>\n",
              "      <td>-1.000000</td>\n",
              "      <td>-1.000000</td>\n",
              "      <td>-1.000000</td>\n",
              "      <td>-1.000000</td>\n",
              "      <td>-1.0</td>\n",
              "    </tr>\n",
              "    <tr>\n",
              "      <th>...</th>\n",
              "      <td>...</td>\n",
              "      <td>...</td>\n",
              "      <td>...</td>\n",
              "      <td>...</td>\n",
              "      <td>...</td>\n",
              "      <td>...</td>\n",
              "      <td>...</td>\n",
              "      <td>...</td>\n",
              "      <td>...</td>\n",
              "      <td>...</td>\n",
              "      <td>...</td>\n",
              "      <td>...</td>\n",
              "      <td>...</td>\n",
              "      <td>...</td>\n",
              "      <td>...</td>\n",
              "      <td>...</td>\n",
              "      <td>...</td>\n",
              "      <td>...</td>\n",
              "      <td>...</td>\n",
              "      <td>...</td>\n",
              "      <td>...</td>\n",
              "      <td>...</td>\n",
              "      <td>...</td>\n",
              "      <td>...</td>\n",
              "      <td>...</td>\n",
              "      <td>...</td>\n",
              "      <td>...</td>\n",
              "      <td>...</td>\n",
              "      <td>...</td>\n",
              "      <td>...</td>\n",
              "      <td>...</td>\n",
              "      <td>...</td>\n",
              "      <td>...</td>\n",
              "      <td>...</td>\n",
              "      <td>...</td>\n",
              "      <td>...</td>\n",
              "      <td>...</td>\n",
              "      <td>...</td>\n",
              "      <td>...</td>\n",
              "      <td>...</td>\n",
              "      <td>...</td>\n",
              "      <td>...</td>\n",
              "      <td>...</td>\n",
              "      <td>...</td>\n",
              "      <td>...</td>\n",
              "      <td>...</td>\n",
              "      <td>...</td>\n",
              "      <td>...</td>\n",
              "      <td>...</td>\n",
              "      <td>...</td>\n",
              "      <td>...</td>\n",
              "      <td>...</td>\n",
              "      <td>...</td>\n",
              "      <td>...</td>\n",
              "      <td>...</td>\n",
              "      <td>...</td>\n",
              "      <td>...</td>\n",
              "      <td>...</td>\n",
              "      <td>...</td>\n",
              "      <td>...</td>\n",
              "      <td>...</td>\n",
              "      <td>...</td>\n",
              "      <td>...</td>\n",
              "      <td>...</td>\n",
              "      <td>...</td>\n",
              "      <td>...</td>\n",
              "      <td>...</td>\n",
              "      <td>...</td>\n",
              "      <td>...</td>\n",
              "      <td>...</td>\n",
              "      <td>...</td>\n",
              "      <td>...</td>\n",
              "      <td>...</td>\n",
              "      <td>...</td>\n",
              "      <td>...</td>\n",
              "      <td>...</td>\n",
              "      <td>...</td>\n",
              "      <td>...</td>\n",
              "      <td>...</td>\n",
              "      <td>...</td>\n",
              "      <td>...</td>\n",
              "    </tr>\n",
              "    <tr>\n",
              "      <th>835</th>\n",
              "      <td>-1.0</td>\n",
              "      <td>-1.000000</td>\n",
              "      <td>-1.000000</td>\n",
              "      <td>-1.000000</td>\n",
              "      <td>-1.000000</td>\n",
              "      <td>-1.000000</td>\n",
              "      <td>-1.000000</td>\n",
              "      <td>-1.000000</td>\n",
              "      <td>-1.000000</td>\n",
              "      <td>-1.0</td>\n",
              "      <td>-1.000000</td>\n",
              "      <td>-0.663477</td>\n",
              "      <td>-1.000000</td>\n",
              "      <td>-1.000000</td>\n",
              "      <td>-1.000000</td>\n",
              "      <td>-0.368422</td>\n",
              "      <td>-1.000000</td>\n",
              "      <td>-1.000000</td>\n",
              "      <td>-1.000000</td>\n",
              "      <td>-1.000000</td>\n",
              "      <td>-1.000000</td>\n",
              "      <td>-1.000000</td>\n",
              "      <td>0.043861</td>\n",
              "      <td>-0.719298</td>\n",
              "      <td>-1.000000</td>\n",
              "      <td>-1.000000</td>\n",
              "      <td>-1.000000</td>\n",
              "      <td>-1.000000</td>\n",
              "      <td>-1.0</td>\n",
              "      <td>-1.000000</td>\n",
              "      <td>-1.000000</td>\n",
              "      <td>-1.000000</td>\n",
              "      <td>-1.000000</td>\n",
              "      <td>-1.000000</td>\n",
              "      <td>-1.000000</td>\n",
              "      <td>0.649123</td>\n",
              "      <td>-1.000000</td>\n",
              "      <td>-1.000000</td>\n",
              "      <td>-1.000000</td>\n",
              "      <td>-1.000000</td>\n",
              "      <td>...</td>\n",
              "      <td>-1.00000</td>\n",
              "      <td>-1.000000</td>\n",
              "      <td>-1.000000</td>\n",
              "      <td>-1.000000</td>\n",
              "      <td>-1.000000</td>\n",
              "      <td>-1.000000</td>\n",
              "      <td>-1.000000</td>\n",
              "      <td>-1.000000</td>\n",
              "      <td>-1.000000</td>\n",
              "      <td>-1.000000</td>\n",
              "      <td>-0.233644</td>\n",
              "      <td>-1.000000</td>\n",
              "      <td>-0.447992</td>\n",
              "      <td>0.235726</td>\n",
              "      <td>0.252164</td>\n",
              "      <td>0.398584</td>\n",
              "      <td>0.256358</td>\n",
              "      <td>-0.033895</td>\n",
              "      <td>0.327133</td>\n",
              "      <td>-1.0</td>\n",
              "      <td>-1.000000</td>\n",
              "      <td>-1.000000</td>\n",
              "      <td>-1.000000</td>\n",
              "      <td>-1.000000</td>\n",
              "      <td>-1.000000</td>\n",
              "      <td>-1.0</td>\n",
              "      <td>-1.000000</td>\n",
              "      <td>-1.000000</td>\n",
              "      <td>-1.000000</td>\n",
              "      <td>-1.0</td>\n",
              "      <td>-1.0</td>\n",
              "      <td>-1.000000</td>\n",
              "      <td>-0.290567</td>\n",
              "      <td>-1.000000</td>\n",
              "      <td>-1.000000</td>\n",
              "      <td>-1.000000</td>\n",
              "      <td>-1.000000</td>\n",
              "      <td>-1.000000</td>\n",
              "      <td>-1.000000</td>\n",
              "      <td>-1.0</td>\n",
              "    </tr>\n",
              "    <tr>\n",
              "      <th>3264</th>\n",
              "      <td>-1.0</td>\n",
              "      <td>-0.899371</td>\n",
              "      <td>-0.774452</td>\n",
              "      <td>-0.643607</td>\n",
              "      <td>-1.000000</td>\n",
              "      <td>-0.899371</td>\n",
              "      <td>-1.000000</td>\n",
              "      <td>-1.000000</td>\n",
              "      <td>-1.000000</td>\n",
              "      <td>-1.0</td>\n",
              "      <td>-1.000000</td>\n",
              "      <td>-0.276159</td>\n",
              "      <td>-1.000000</td>\n",
              "      <td>-0.776730</td>\n",
              "      <td>-0.528302</td>\n",
              "      <td>-1.000000</td>\n",
              "      <td>-1.000000</td>\n",
              "      <td>-0.845912</td>\n",
              "      <td>-0.767296</td>\n",
              "      <td>-0.801887</td>\n",
              "      <td>-0.800839</td>\n",
              "      <td>-0.628930</td>\n",
              "      <td>-1.000000</td>\n",
              "      <td>-0.698113</td>\n",
              "      <td>-0.396227</td>\n",
              "      <td>-1.000000</td>\n",
              "      <td>-1.000000</td>\n",
              "      <td>-0.922956</td>\n",
              "      <td>-1.0</td>\n",
              "      <td>-1.000000</td>\n",
              "      <td>-1.000000</td>\n",
              "      <td>-0.553459</td>\n",
              "      <td>-1.000000</td>\n",
              "      <td>-0.831447</td>\n",
              "      <td>-1.000000</td>\n",
              "      <td>-1.000000</td>\n",
              "      <td>-1.000000</td>\n",
              "      <td>-0.553459</td>\n",
              "      <td>-1.000000</td>\n",
              "      <td>-1.000000</td>\n",
              "      <td>...</td>\n",
              "      <td>-1.00000</td>\n",
              "      <td>-1.000000</td>\n",
              "      <td>-1.000000</td>\n",
              "      <td>-0.517685</td>\n",
              "      <td>-0.630225</td>\n",
              "      <td>-1.000000</td>\n",
              "      <td>-1.000000</td>\n",
              "      <td>-0.909968</td>\n",
              "      <td>-1.000000</td>\n",
              "      <td>-0.536978</td>\n",
              "      <td>-1.000000</td>\n",
              "      <td>-1.000000</td>\n",
              "      <td>-0.446516</td>\n",
              "      <td>0.612864</td>\n",
              "      <td>0.105592</td>\n",
              "      <td>0.204142</td>\n",
              "      <td>0.025950</td>\n",
              "      <td>0.555456</td>\n",
              "      <td>0.070289</td>\n",
              "      <td>-1.0</td>\n",
              "      <td>-1.000000</td>\n",
              "      <td>-1.000000</td>\n",
              "      <td>-0.561291</td>\n",
              "      <td>-0.756989</td>\n",
              "      <td>-1.000000</td>\n",
              "      <td>-1.0</td>\n",
              "      <td>-1.000000</td>\n",
              "      <td>-1.000000</td>\n",
              "      <td>-1.000000</td>\n",
              "      <td>-1.0</td>\n",
              "      <td>-1.0</td>\n",
              "      <td>-1.000000</td>\n",
              "      <td>-0.757420</td>\n",
              "      <td>-0.896774</td>\n",
              "      <td>-0.845161</td>\n",
              "      <td>-1.000000</td>\n",
              "      <td>-1.000000</td>\n",
              "      <td>-0.812903</td>\n",
              "      <td>-1.000000</td>\n",
              "      <td>-1.0</td>\n",
              "    </tr>\n",
              "    <tr>\n",
              "      <th>1653</th>\n",
              "      <td>-1.0</td>\n",
              "      <td>-1.000000</td>\n",
              "      <td>-1.000000</td>\n",
              "      <td>-1.000000</td>\n",
              "      <td>-0.830800</td>\n",
              "      <td>-0.760300</td>\n",
              "      <td>-0.250936</td>\n",
              "      <td>-1.000000</td>\n",
              "      <td>-0.726592</td>\n",
              "      <td>-1.0</td>\n",
              "      <td>-0.734082</td>\n",
              "      <td>-0.712632</td>\n",
              "      <td>-1.000000</td>\n",
              "      <td>-1.000000</td>\n",
              "      <td>-0.812734</td>\n",
              "      <td>-0.460674</td>\n",
              "      <td>-0.832709</td>\n",
              "      <td>-1.000000</td>\n",
              "      <td>-1.000000</td>\n",
              "      <td>-1.000000</td>\n",
              "      <td>-0.762796</td>\n",
              "      <td>-0.911610</td>\n",
              "      <td>-1.000000</td>\n",
              "      <td>-0.880150</td>\n",
              "      <td>-1.000000</td>\n",
              "      <td>-1.000000</td>\n",
              "      <td>-1.000000</td>\n",
              "      <td>-1.000000</td>\n",
              "      <td>-1.0</td>\n",
              "      <td>-1.000000</td>\n",
              "      <td>-1.000000</td>\n",
              "      <td>-1.000000</td>\n",
              "      <td>-0.644194</td>\n",
              "      <td>-0.799251</td>\n",
              "      <td>-0.867041</td>\n",
              "      <td>-1.000000</td>\n",
              "      <td>-1.000000</td>\n",
              "      <td>-0.645443</td>\n",
              "      <td>-0.535581</td>\n",
              "      <td>-1.000000</td>\n",
              "      <td>...</td>\n",
              "      <td>-1.00000</td>\n",
              "      <td>-0.903353</td>\n",
              "      <td>-0.811539</td>\n",
              "      <td>-1.000000</td>\n",
              "      <td>-0.778846</td>\n",
              "      <td>-1.000000</td>\n",
              "      <td>-0.782051</td>\n",
              "      <td>-1.000000</td>\n",
              "      <td>-0.546156</td>\n",
              "      <td>-1.000000</td>\n",
              "      <td>-1.000000</td>\n",
              "      <td>-0.680770</td>\n",
              "      <td>0.188299</td>\n",
              "      <td>0.568346</td>\n",
              "      <td>0.062962</td>\n",
              "      <td>0.055228</td>\n",
              "      <td>-0.010890</td>\n",
              "      <td>0.458319</td>\n",
              "      <td>-0.108908</td>\n",
              "      <td>-1.0</td>\n",
              "      <td>-0.376063</td>\n",
              "      <td>-0.765766</td>\n",
              "      <td>-1.000000</td>\n",
              "      <td>-1.000000</td>\n",
              "      <td>-1.000000</td>\n",
              "      <td>-1.0</td>\n",
              "      <td>-1.000000</td>\n",
              "      <td>-1.000000</td>\n",
              "      <td>-1.000000</td>\n",
              "      <td>-1.0</td>\n",
              "      <td>-1.0</td>\n",
              "      <td>-1.000000</td>\n",
              "      <td>-0.419306</td>\n",
              "      <td>-1.000000</td>\n",
              "      <td>-1.000000</td>\n",
              "      <td>-0.648648</td>\n",
              "      <td>-0.706564</td>\n",
              "      <td>-0.776062</td>\n",
              "      <td>-1.000000</td>\n",
              "      <td>-1.0</td>\n",
              "    </tr>\n",
              "    <tr>\n",
              "      <th>2607</th>\n",
              "      <td>-1.0</td>\n",
              "      <td>-1.000000</td>\n",
              "      <td>-0.676918</td>\n",
              "      <td>-1.000000</td>\n",
              "      <td>-1.000000</td>\n",
              "      <td>-1.000000</td>\n",
              "      <td>-1.000000</td>\n",
              "      <td>-1.000000</td>\n",
              "      <td>-1.000000</td>\n",
              "      <td>-1.0</td>\n",
              "      <td>-1.000000</td>\n",
              "      <td>-1.000000</td>\n",
              "      <td>-1.000000</td>\n",
              "      <td>-1.000000</td>\n",
              "      <td>-1.000000</td>\n",
              "      <td>-1.000000</td>\n",
              "      <td>-0.597597</td>\n",
              "      <td>-1.000000</td>\n",
              "      <td>0.333333</td>\n",
              "      <td>-1.000000</td>\n",
              "      <td>-1.000000</td>\n",
              "      <td>0.063062</td>\n",
              "      <td>-1.000000</td>\n",
              "      <td>-1.000000</td>\n",
              "      <td>-0.711712</td>\n",
              "      <td>-1.000000</td>\n",
              "      <td>-1.000000</td>\n",
              "      <td>-1.000000</td>\n",
              "      <td>-1.0</td>\n",
              "      <td>-1.000000</td>\n",
              "      <td>-0.585586</td>\n",
              "      <td>-0.360360</td>\n",
              "      <td>-1.000000</td>\n",
              "      <td>-1.000000</td>\n",
              "      <td>-1.000000</td>\n",
              "      <td>-0.435435</td>\n",
              "      <td>-0.279279</td>\n",
              "      <td>-0.573573</td>\n",
              "      <td>-0.441442</td>\n",
              "      <td>-1.000000</td>\n",
              "      <td>...</td>\n",
              "      <td>-1.00000</td>\n",
              "      <td>-1.000000</td>\n",
              "      <td>0.413465</td>\n",
              "      <td>-0.038460</td>\n",
              "      <td>-1.000000</td>\n",
              "      <td>-1.000000</td>\n",
              "      <td>-0.455128</td>\n",
              "      <td>-0.730769</td>\n",
              "      <td>-1.000000</td>\n",
              "      <td>-1.000000</td>\n",
              "      <td>-1.000000</td>\n",
              "      <td>-1.000000</td>\n",
              "      <td>0.176184</td>\n",
              "      <td>0.238707</td>\n",
              "      <td>0.168503</td>\n",
              "      <td>0.113730</td>\n",
              "      <td>0.042669</td>\n",
              "      <td>0.007358</td>\n",
              "      <td>0.034871</td>\n",
              "      <td>-1.0</td>\n",
              "      <td>-1.000000</td>\n",
              "      <td>-1.000000</td>\n",
              "      <td>0.320388</td>\n",
              "      <td>-1.000000</td>\n",
              "      <td>-0.325243</td>\n",
              "      <td>-1.0</td>\n",
              "      <td>-1.000000</td>\n",
              "      <td>-1.000000</td>\n",
              "      <td>-1.000000</td>\n",
              "      <td>-1.0</td>\n",
              "      <td>-1.0</td>\n",
              "      <td>-1.000000</td>\n",
              "      <td>-1.000000</td>\n",
              "      <td>-0.844660</td>\n",
              "      <td>-1.000000</td>\n",
              "      <td>-1.000000</td>\n",
              "      <td>-0.262136</td>\n",
              "      <td>-1.000000</td>\n",
              "      <td>-1.000000</td>\n",
              "      <td>-1.0</td>\n",
              "    </tr>\n",
              "    <tr>\n",
              "      <th>2732</th>\n",
              "      <td>-1.0</td>\n",
              "      <td>-1.000000</td>\n",
              "      <td>-1.000000</td>\n",
              "      <td>-1.000000</td>\n",
              "      <td>-1.000000</td>\n",
              "      <td>-0.640448</td>\n",
              "      <td>-1.000000</td>\n",
              "      <td>-1.000000</td>\n",
              "      <td>-1.000000</td>\n",
              "      <td>-1.0</td>\n",
              "      <td>-1.000000</td>\n",
              "      <td>-1.000000</td>\n",
              "      <td>-1.000000</td>\n",
              "      <td>-1.000000</td>\n",
              "      <td>-1.000000</td>\n",
              "      <td>-1.000000</td>\n",
              "      <td>-1.000000</td>\n",
              "      <td>-1.000000</td>\n",
              "      <td>-1.000000</td>\n",
              "      <td>-1.000000</td>\n",
              "      <td>-1.000000</td>\n",
              "      <td>-1.000000</td>\n",
              "      <td>-1.000000</td>\n",
              "      <td>-1.000000</td>\n",
              "      <td>-0.280899</td>\n",
              "      <td>-1.000000</td>\n",
              "      <td>-1.000000</td>\n",
              "      <td>-0.724718</td>\n",
              "      <td>-1.0</td>\n",
              "      <td>-1.000000</td>\n",
              "      <td>-1.000000</td>\n",
              "      <td>-1.000000</td>\n",
              "      <td>-1.000000</td>\n",
              "      <td>-1.000000</td>\n",
              "      <td>-1.000000</td>\n",
              "      <td>-1.000000</td>\n",
              "      <td>-1.000000</td>\n",
              "      <td>-0.468162</td>\n",
              "      <td>-1.000000</td>\n",
              "      <td>-1.000000</td>\n",
              "      <td>...</td>\n",
              "      <td>-1.00000</td>\n",
              "      <td>-1.000000</td>\n",
              "      <td>-0.402440</td>\n",
              "      <td>0.829270</td>\n",
              "      <td>-1.000000</td>\n",
              "      <td>-0.325205</td>\n",
              "      <td>-0.308944</td>\n",
              "      <td>-1.000000</td>\n",
              "      <td>-1.000000</td>\n",
              "      <td>-1.000000</td>\n",
              "      <td>-1.000000</td>\n",
              "      <td>0.012193</td>\n",
              "      <td>-0.204908</td>\n",
              "      <td>0.137088</td>\n",
              "      <td>0.207784</td>\n",
              "      <td>0.257406</td>\n",
              "      <td>0.182446</td>\n",
              "      <td>0.067961</td>\n",
              "      <td>-0.024991</td>\n",
              "      <td>-1.0</td>\n",
              "      <td>-0.501234</td>\n",
              "      <td>-1.000000</td>\n",
              "      <td>-1.000000</td>\n",
              "      <td>-1.000000</td>\n",
              "      <td>-1.000000</td>\n",
              "      <td>-1.0</td>\n",
              "      <td>-1.000000</td>\n",
              "      <td>-1.000000</td>\n",
              "      <td>-1.000000</td>\n",
              "      <td>-1.0</td>\n",
              "      <td>-1.0</td>\n",
              "      <td>-1.000000</td>\n",
              "      <td>-1.000000</td>\n",
              "      <td>-1.000000</td>\n",
              "      <td>-1.000000</td>\n",
              "      <td>-1.000000</td>\n",
              "      <td>-1.000000</td>\n",
              "      <td>-1.000000</td>\n",
              "      <td>-1.000000</td>\n",
              "      <td>-1.0</td>\n",
              "    </tr>\n",
              "  </tbody>\n",
              "</table>\n",
              "<p>2690 rows × 400 columns</p>\n",
              "</div>"
            ],
            "text/plain": [
              "      1         2         3         4    ...       397       398       399  400\n",
              "3174 -1.0 -0.960445 -0.955671 -1.000000  ... -0.905119 -1.000000 -1.000000 -1.0\n",
              "991  -1.0 -1.000000 -0.825912 -0.449839  ... -0.616161 -1.000000 -1.000000 -1.0\n",
              "3102 -1.0 -0.759398 -1.000000 -0.147871  ... -1.000000 -1.000000 -1.000000 -1.0\n",
              "2448 -1.0 -0.867769 -1.000000 -1.000000  ... -1.000000 -0.752137 -0.628205 -1.0\n",
              "3199 -1.0 -1.000000 -1.000000 -1.000000  ... -1.000000 -1.000000 -1.000000 -1.0\n",
              "...   ...       ...       ...       ...  ...       ...       ...       ...  ...\n",
              "835  -1.0 -1.000000 -1.000000 -1.000000  ... -1.000000 -1.000000 -1.000000 -1.0\n",
              "3264 -1.0 -0.899371 -0.774452 -0.643607  ... -1.000000 -0.812903 -1.000000 -1.0\n",
              "1653 -1.0 -1.000000 -1.000000 -1.000000  ... -0.706564 -0.776062 -1.000000 -1.0\n",
              "2607 -1.0 -1.000000 -0.676918 -1.000000  ... -0.262136 -1.000000 -1.000000 -1.0\n",
              "2732 -1.0 -1.000000 -1.000000 -1.000000  ... -1.000000 -1.000000 -1.000000 -1.0\n",
              "\n",
              "[2690 rows x 400 columns]"
            ]
          },
          "metadata": {
            "tags": []
          },
          "execution_count": 468
        }
      ]
    },
    {
      "cell_type": "code",
      "metadata": {
        "id": "FK-xY1h-wtuu",
        "colab_type": "code",
        "outputId": "54fa6da9-70b1-4e1e-8384-6a08821e2be8",
        "colab": {
          "base_uri": "https://localhost:8080/",
          "height": 464
        }
      },
      "source": [
        "X_val"
      ],
      "execution_count": 0,
      "outputs": [
        {
          "output_type": "execute_result",
          "data": {
            "text/html": [
              "<div>\n",
              "<style scoped>\n",
              "    .dataframe tbody tr th:only-of-type {\n",
              "        vertical-align: middle;\n",
              "    }\n",
              "\n",
              "    .dataframe tbody tr th {\n",
              "        vertical-align: top;\n",
              "    }\n",
              "\n",
              "    .dataframe thead th {\n",
              "        text-align: right;\n",
              "    }\n",
              "</style>\n",
              "<table border=\"1\" class=\"dataframe\">\n",
              "  <thead>\n",
              "    <tr style=\"text-align: right;\">\n",
              "      <th></th>\n",
              "      <th>1</th>\n",
              "      <th>2</th>\n",
              "      <th>3</th>\n",
              "      <th>4</th>\n",
              "      <th>5</th>\n",
              "      <th>6</th>\n",
              "      <th>7</th>\n",
              "      <th>8</th>\n",
              "      <th>9</th>\n",
              "      <th>10</th>\n",
              "      <th>11</th>\n",
              "      <th>12</th>\n",
              "      <th>13</th>\n",
              "      <th>14</th>\n",
              "      <th>15</th>\n",
              "      <th>16</th>\n",
              "      <th>17</th>\n",
              "      <th>18</th>\n",
              "      <th>19</th>\n",
              "      <th>20</th>\n",
              "      <th>21</th>\n",
              "      <th>22</th>\n",
              "      <th>23</th>\n",
              "      <th>24</th>\n",
              "      <th>25</th>\n",
              "      <th>26</th>\n",
              "      <th>27</th>\n",
              "      <th>28</th>\n",
              "      <th>29</th>\n",
              "      <th>30</th>\n",
              "      <th>31</th>\n",
              "      <th>32</th>\n",
              "      <th>33</th>\n",
              "      <th>34</th>\n",
              "      <th>35</th>\n",
              "      <th>36</th>\n",
              "      <th>37</th>\n",
              "      <th>38</th>\n",
              "      <th>39</th>\n",
              "      <th>40</th>\n",
              "      <th>...</th>\n",
              "      <th>361</th>\n",
              "      <th>362</th>\n",
              "      <th>363</th>\n",
              "      <th>364</th>\n",
              "      <th>365</th>\n",
              "      <th>366</th>\n",
              "      <th>367</th>\n",
              "      <th>368</th>\n",
              "      <th>369</th>\n",
              "      <th>370</th>\n",
              "      <th>371</th>\n",
              "      <th>372</th>\n",
              "      <th>373</th>\n",
              "      <th>374</th>\n",
              "      <th>375</th>\n",
              "      <th>376</th>\n",
              "      <th>377</th>\n",
              "      <th>378</th>\n",
              "      <th>379</th>\n",
              "      <th>380</th>\n",
              "      <th>381</th>\n",
              "      <th>382</th>\n",
              "      <th>383</th>\n",
              "      <th>384</th>\n",
              "      <th>385</th>\n",
              "      <th>386</th>\n",
              "      <th>387</th>\n",
              "      <th>388</th>\n",
              "      <th>389</th>\n",
              "      <th>390</th>\n",
              "      <th>391</th>\n",
              "      <th>392</th>\n",
              "      <th>393</th>\n",
              "      <th>394</th>\n",
              "      <th>395</th>\n",
              "      <th>396</th>\n",
              "      <th>397</th>\n",
              "      <th>398</th>\n",
              "      <th>399</th>\n",
              "      <th>400</th>\n",
              "    </tr>\n",
              "  </thead>\n",
              "  <tbody>\n",
              "    <tr>\n",
              "      <th>1907</th>\n",
              "      <td>-1.000000</td>\n",
              "      <td>-1.000000</td>\n",
              "      <td>-1.000000</td>\n",
              "      <td>-1.000000</td>\n",
              "      <td>-1.000000</td>\n",
              "      <td>-1.000000</td>\n",
              "      <td>-1.000000</td>\n",
              "      <td>-1.000000</td>\n",
              "      <td>-1.000000</td>\n",
              "      <td>-1.000000</td>\n",
              "      <td>-1.000000</td>\n",
              "      <td>0.198864</td>\n",
              "      <td>-1.000000</td>\n",
              "      <td>-1.000000</td>\n",
              "      <td>-1.000000</td>\n",
              "      <td>-1.0</td>\n",
              "      <td>-1.000000</td>\n",
              "      <td>-1.000000</td>\n",
              "      <td>-0.743055</td>\n",
              "      <td>-0.781250</td>\n",
              "      <td>-0.340275</td>\n",
              "      <td>-0.590278</td>\n",
              "      <td>-1.000000</td>\n",
              "      <td>-1.000000</td>\n",
              "      <td>-1.000000</td>\n",
              "      <td>-1.000000</td>\n",
              "      <td>-1.0</td>\n",
              "      <td>-1.000000</td>\n",
              "      <td>-1.000000</td>\n",
              "      <td>-0.888889</td>\n",
              "      <td>-1.000000</td>\n",
              "      <td>-0.753472</td>\n",
              "      <td>-1.0</td>\n",
              "      <td>-0.627778</td>\n",
              "      <td>-1.000000</td>\n",
              "      <td>-1.000000</td>\n",
              "      <td>-1.000000</td>\n",
              "      <td>-0.506943</td>\n",
              "      <td>-1.000000</td>\n",
              "      <td>-1.000000</td>\n",
              "      <td>...</td>\n",
              "      <td>-1.000000</td>\n",
              "      <td>-1.000000</td>\n",
              "      <td>-1.000000</td>\n",
              "      <td>-1.000000</td>\n",
              "      <td>-1.000000</td>\n",
              "      <td>-1.000000</td>\n",
              "      <td>-1.000000</td>\n",
              "      <td>-1.000000</td>\n",
              "      <td>-1.000000</td>\n",
              "      <td>-1.0</td>\n",
              "      <td>-1.000000</td>\n",
              "      <td>-1.000000</td>\n",
              "      <td>-0.342338</td>\n",
              "      <td>0.428552</td>\n",
              "      <td>-0.299038</td>\n",
              "      <td>-0.330332</td>\n",
              "      <td>-0.426969</td>\n",
              "      <td>0.608078</td>\n",
              "      <td>0.062772</td>\n",
              "      <td>-0.819643</td>\n",
              "      <td>-0.711429</td>\n",
              "      <td>-0.566666</td>\n",
              "      <td>-1.00000</td>\n",
              "      <td>-1.0</td>\n",
              "      <td>-1.000000</td>\n",
              "      <td>-1.000000</td>\n",
              "      <td>-1.000000</td>\n",
              "      <td>-1.0</td>\n",
              "      <td>-1.00000</td>\n",
              "      <td>-1.000000</td>\n",
              "      <td>-1.0</td>\n",
              "      <td>-1.000000</td>\n",
              "      <td>-0.731429</td>\n",
              "      <td>-1.000000</td>\n",
              "      <td>-0.714286</td>\n",
              "      <td>-0.350000</td>\n",
              "      <td>-0.457143</td>\n",
              "      <td>-0.792857</td>\n",
              "      <td>-0.378571</td>\n",
              "      <td>-1.0</td>\n",
              "    </tr>\n",
              "    <tr>\n",
              "      <th>1869</th>\n",
              "      <td>-0.836323</td>\n",
              "      <td>-0.856502</td>\n",
              "      <td>-0.919592</td>\n",
              "      <td>-0.745890</td>\n",
              "      <td>-1.000000</td>\n",
              "      <td>-0.928251</td>\n",
              "      <td>-0.775785</td>\n",
              "      <td>-0.681615</td>\n",
              "      <td>-1.000000</td>\n",
              "      <td>-1.000000</td>\n",
              "      <td>-0.681615</td>\n",
              "      <td>-0.741949</td>\n",
              "      <td>-1.000000</td>\n",
              "      <td>-1.000000</td>\n",
              "      <td>-1.000000</td>\n",
              "      <td>-1.0</td>\n",
              "      <td>-0.899851</td>\n",
              "      <td>-0.890135</td>\n",
              "      <td>-0.668161</td>\n",
              "      <td>-1.000000</td>\n",
              "      <td>-0.857997</td>\n",
              "      <td>-0.682512</td>\n",
              "      <td>-1.000000</td>\n",
              "      <td>-1.000000</td>\n",
              "      <td>-1.000000</td>\n",
              "      <td>-0.834081</td>\n",
              "      <td>-1.0</td>\n",
              "      <td>-1.000000</td>\n",
              "      <td>-1.000000</td>\n",
              "      <td>-0.928251</td>\n",
              "      <td>-1.000000</td>\n",
              "      <td>-0.840807</td>\n",
              "      <td>-1.0</td>\n",
              "      <td>-0.759641</td>\n",
              "      <td>-0.562219</td>\n",
              "      <td>-0.437967</td>\n",
              "      <td>-1.000000</td>\n",
              "      <td>-0.575486</td>\n",
              "      <td>-0.860987</td>\n",
              "      <td>-1.000000</td>\n",
              "      <td>...</td>\n",
              "      <td>-0.790433</td>\n",
              "      <td>-0.255883</td>\n",
              "      <td>-1.000000</td>\n",
              "      <td>-0.886105</td>\n",
              "      <td>-0.869021</td>\n",
              "      <td>-0.873956</td>\n",
              "      <td>-0.483675</td>\n",
              "      <td>-0.808656</td>\n",
              "      <td>-1.000000</td>\n",
              "      <td>-1.0</td>\n",
              "      <td>-0.813212</td>\n",
              "      <td>-1.000000</td>\n",
              "      <td>0.334899</td>\n",
              "      <td>0.659678</td>\n",
              "      <td>0.264035</td>\n",
              "      <td>0.198139</td>\n",
              "      <td>0.145587</td>\n",
              "      <td>0.668207</td>\n",
              "      <td>-0.169586</td>\n",
              "      <td>-0.769407</td>\n",
              "      <td>-0.723288</td>\n",
              "      <td>-0.722983</td>\n",
              "      <td>-1.00000</td>\n",
              "      <td>-1.0</td>\n",
              "      <td>-0.841324</td>\n",
              "      <td>-1.000000</td>\n",
              "      <td>-1.000000</td>\n",
              "      <td>-1.0</td>\n",
              "      <td>-0.83105</td>\n",
              "      <td>-1.000000</td>\n",
              "      <td>-1.0</td>\n",
              "      <td>-1.000000</td>\n",
              "      <td>-0.656621</td>\n",
              "      <td>-1.000000</td>\n",
              "      <td>-0.853881</td>\n",
              "      <td>-1.000000</td>\n",
              "      <td>-0.305936</td>\n",
              "      <td>-0.602740</td>\n",
              "      <td>-0.602740</td>\n",
              "      <td>-1.0</td>\n",
              "    </tr>\n",
              "    <tr>\n",
              "      <th>2719</th>\n",
              "      <td>-1.000000</td>\n",
              "      <td>-0.900929</td>\n",
              "      <td>-0.888972</td>\n",
              "      <td>-1.000000</td>\n",
              "      <td>-0.860134</td>\n",
              "      <td>-0.900929</td>\n",
              "      <td>-1.000000</td>\n",
              "      <td>-1.000000</td>\n",
              "      <td>-0.773994</td>\n",
              "      <td>-1.000000</td>\n",
              "      <td>-1.000000</td>\n",
              "      <td>-0.762454</td>\n",
              "      <td>-1.000000</td>\n",
              "      <td>-1.000000</td>\n",
              "      <td>-1.000000</td>\n",
              "      <td>-1.0</td>\n",
              "      <td>-1.000000</td>\n",
              "      <td>-0.848297</td>\n",
              "      <td>-1.000000</td>\n",
              "      <td>-1.000000</td>\n",
              "      <td>-0.803921</td>\n",
              "      <td>-1.000000</td>\n",
              "      <td>-1.000000</td>\n",
              "      <td>-0.900929</td>\n",
              "      <td>-0.900929</td>\n",
              "      <td>-0.770897</td>\n",
              "      <td>-1.0</td>\n",
              "      <td>-1.000000</td>\n",
              "      <td>-1.000000</td>\n",
              "      <td>-0.801858</td>\n",
              "      <td>-1.000000</td>\n",
              "      <td>-1.000000</td>\n",
              "      <td>-1.0</td>\n",
              "      <td>-1.000000</td>\n",
              "      <td>-0.945046</td>\n",
              "      <td>-0.805985</td>\n",
              "      <td>-1.000000</td>\n",
              "      <td>-1.000000</td>\n",
              "      <td>-0.808049</td>\n",
              "      <td>-1.000000</td>\n",
              "      <td>...</td>\n",
              "      <td>-1.000000</td>\n",
              "      <td>-1.000000</td>\n",
              "      <td>-1.000000</td>\n",
              "      <td>-1.000000</td>\n",
              "      <td>-0.818038</td>\n",
              "      <td>-1.000000</td>\n",
              "      <td>-0.820675</td>\n",
              "      <td>-0.911392</td>\n",
              "      <td>-1.000000</td>\n",
              "      <td>-1.0</td>\n",
              "      <td>-1.000000</td>\n",
              "      <td>-1.000000</td>\n",
              "      <td>0.801535</td>\n",
              "      <td>0.571145</td>\n",
              "      <td>0.164100</td>\n",
              "      <td>0.095075</td>\n",
              "      <td>0.101875</td>\n",
              "      <td>0.547382</td>\n",
              "      <td>0.065027</td>\n",
              "      <td>-1.000000</td>\n",
              "      <td>-0.102224</td>\n",
              "      <td>-1.000000</td>\n",
              "      <td>-1.00000</td>\n",
              "      <td>-1.0</td>\n",
              "      <td>-0.779365</td>\n",
              "      <td>-1.000000</td>\n",
              "      <td>-1.000000</td>\n",
              "      <td>-1.0</td>\n",
              "      <td>-1.00000</td>\n",
              "      <td>-1.000000</td>\n",
              "      <td>-1.0</td>\n",
              "      <td>-1.000000</td>\n",
              "      <td>-1.000000</td>\n",
              "      <td>-1.000000</td>\n",
              "      <td>-0.949206</td>\n",
              "      <td>-0.855556</td>\n",
              "      <td>-1.000000</td>\n",
              "      <td>-0.447620</td>\n",
              "      <td>-0.723810</td>\n",
              "      <td>-1.0</td>\n",
              "    </tr>\n",
              "    <tr>\n",
              "      <th>2618</th>\n",
              "      <td>-1.000000</td>\n",
              "      <td>-1.000000</td>\n",
              "      <td>-1.000000</td>\n",
              "      <td>-1.000000</td>\n",
              "      <td>-0.898708</td>\n",
              "      <td>-0.856502</td>\n",
              "      <td>-1.000000</td>\n",
              "      <td>-1.000000</td>\n",
              "      <td>-1.000000</td>\n",
              "      <td>-1.000000</td>\n",
              "      <td>-1.000000</td>\n",
              "      <td>-0.827966</td>\n",
              "      <td>-1.000000</td>\n",
              "      <td>-1.000000</td>\n",
              "      <td>-1.000000</td>\n",
              "      <td>-1.0</td>\n",
              "      <td>-0.899851</td>\n",
              "      <td>-0.890135</td>\n",
              "      <td>-1.000000</td>\n",
              "      <td>-1.000000</td>\n",
              "      <td>-0.857997</td>\n",
              "      <td>-1.000000</td>\n",
              "      <td>-1.000000</td>\n",
              "      <td>-0.856502</td>\n",
              "      <td>-0.426010</td>\n",
              "      <td>-1.000000</td>\n",
              "      <td>-1.0</td>\n",
              "      <td>-0.835202</td>\n",
              "      <td>-1.000000</td>\n",
              "      <td>-1.000000</td>\n",
              "      <td>-0.896861</td>\n",
              "      <td>-1.000000</td>\n",
              "      <td>-1.0</td>\n",
              "      <td>-1.000000</td>\n",
              "      <td>-1.000000</td>\n",
              "      <td>-0.859492</td>\n",
              "      <td>-1.000000</td>\n",
              "      <td>-0.787743</td>\n",
              "      <td>-1.000000</td>\n",
              "      <td>-1.000000</td>\n",
              "      <td>...</td>\n",
              "      <td>-1.000000</td>\n",
              "      <td>-1.000000</td>\n",
              "      <td>-0.888383</td>\n",
              "      <td>-1.000000</td>\n",
              "      <td>-0.869021</td>\n",
              "      <td>-0.747912</td>\n",
              "      <td>-1.000000</td>\n",
              "      <td>-0.936219</td>\n",
              "      <td>-1.000000</td>\n",
              "      <td>-1.0</td>\n",
              "      <td>-1.000000</td>\n",
              "      <td>-1.000000</td>\n",
              "      <td>-0.368351</td>\n",
              "      <td>0.637360</td>\n",
              "      <td>0.022532</td>\n",
              "      <td>0.109580</td>\n",
              "      <td>-0.034688</td>\n",
              "      <td>0.724599</td>\n",
              "      <td>0.204253</td>\n",
              "      <td>-1.000000</td>\n",
              "      <td>-0.723288</td>\n",
              "      <td>-0.722983</td>\n",
              "      <td>-1.00000</td>\n",
              "      <td>-1.0</td>\n",
              "      <td>-0.841324</td>\n",
              "      <td>-1.000000</td>\n",
              "      <td>-0.784475</td>\n",
              "      <td>-1.0</td>\n",
              "      <td>-1.00000</td>\n",
              "      <td>-1.000000</td>\n",
              "      <td>-1.0</td>\n",
              "      <td>-1.000000</td>\n",
              "      <td>-0.399088</td>\n",
              "      <td>-0.963470</td>\n",
              "      <td>-0.926941</td>\n",
              "      <td>-0.896118</td>\n",
              "      <td>-0.652968</td>\n",
              "      <td>-0.867580</td>\n",
              "      <td>-1.000000</td>\n",
              "      <td>-1.0</td>\n",
              "    </tr>\n",
              "    <tr>\n",
              "      <th>2229</th>\n",
              "      <td>-1.000000</td>\n",
              "      <td>-1.000000</td>\n",
              "      <td>-0.895140</td>\n",
              "      <td>-1.000000</td>\n",
              "      <td>-0.867905</td>\n",
              "      <td>-0.719298</td>\n",
              "      <td>-1.000000</td>\n",
              "      <td>-1.000000</td>\n",
              "      <td>-0.786550</td>\n",
              "      <td>-0.356725</td>\n",
              "      <td>-1.000000</td>\n",
              "      <td>-0.551303</td>\n",
              "      <td>-1.000000</td>\n",
              "      <td>-1.000000</td>\n",
              "      <td>-0.853801</td>\n",
              "      <td>-1.0</td>\n",
              "      <td>-1.000000</td>\n",
              "      <td>-0.713450</td>\n",
              "      <td>-1.000000</td>\n",
              "      <td>-1.000000</td>\n",
              "      <td>-1.000000</td>\n",
              "      <td>-1.000000</td>\n",
              "      <td>-0.652046</td>\n",
              "      <td>-0.812866</td>\n",
              "      <td>-1.000000</td>\n",
              "      <td>-1.000000</td>\n",
              "      <td>-1.0</td>\n",
              "      <td>-0.856725</td>\n",
              "      <td>-0.461989</td>\n",
              "      <td>-0.906433</td>\n",
              "      <td>-0.730995</td>\n",
              "      <td>-1.000000</td>\n",
              "      <td>-1.0</td>\n",
              "      <td>-1.000000</td>\n",
              "      <td>-0.948099</td>\n",
              "      <td>-0.633529</td>\n",
              "      <td>-0.766082</td>\n",
              "      <td>-0.723197</td>\n",
              "      <td>-0.637427</td>\n",
              "      <td>-0.802631</td>\n",
              "      <td>...</td>\n",
              "      <td>-1.000000</td>\n",
              "      <td>-0.849981</td>\n",
              "      <td>-0.853731</td>\n",
              "      <td>-0.701493</td>\n",
              "      <td>-1.000000</td>\n",
              "      <td>-0.834826</td>\n",
              "      <td>-0.661691</td>\n",
              "      <td>-1.000000</td>\n",
              "      <td>-1.000000</td>\n",
              "      <td>-1.0</td>\n",
              "      <td>-0.755224</td>\n",
              "      <td>-1.000000</td>\n",
              "      <td>-0.185899</td>\n",
              "      <td>0.668032</td>\n",
              "      <td>0.324820</td>\n",
              "      <td>0.350638</td>\n",
              "      <td>0.220268</td>\n",
              "      <td>0.536074</td>\n",
              "      <td>-0.084036</td>\n",
              "      <td>-1.000000</td>\n",
              "      <td>-0.879042</td>\n",
              "      <td>-1.000000</td>\n",
              "      <td>-1.00000</td>\n",
              "      <td>-1.0</td>\n",
              "      <td>-0.791916</td>\n",
              "      <td>-1.000000</td>\n",
              "      <td>-0.858683</td>\n",
              "      <td>-1.0</td>\n",
              "      <td>-1.00000</td>\n",
              "      <td>-1.000000</td>\n",
              "      <td>-1.0</td>\n",
              "      <td>-1.000000</td>\n",
              "      <td>-0.662275</td>\n",
              "      <td>-1.000000</td>\n",
              "      <td>-1.000000</td>\n",
              "      <td>-0.591317</td>\n",
              "      <td>-1.000000</td>\n",
              "      <td>-0.826348</td>\n",
              "      <td>-1.000000</td>\n",
              "      <td>-1.0</td>\n",
              "    </tr>\n",
              "    <tr>\n",
              "      <th>...</th>\n",
              "      <td>...</td>\n",
              "      <td>...</td>\n",
              "      <td>...</td>\n",
              "      <td>...</td>\n",
              "      <td>...</td>\n",
              "      <td>...</td>\n",
              "      <td>...</td>\n",
              "      <td>...</td>\n",
              "      <td>...</td>\n",
              "      <td>...</td>\n",
              "      <td>...</td>\n",
              "      <td>...</td>\n",
              "      <td>...</td>\n",
              "      <td>...</td>\n",
              "      <td>...</td>\n",
              "      <td>...</td>\n",
              "      <td>...</td>\n",
              "      <td>...</td>\n",
              "      <td>...</td>\n",
              "      <td>...</td>\n",
              "      <td>...</td>\n",
              "      <td>...</td>\n",
              "      <td>...</td>\n",
              "      <td>...</td>\n",
              "      <td>...</td>\n",
              "      <td>...</td>\n",
              "      <td>...</td>\n",
              "      <td>...</td>\n",
              "      <td>...</td>\n",
              "      <td>...</td>\n",
              "      <td>...</td>\n",
              "      <td>...</td>\n",
              "      <td>...</td>\n",
              "      <td>...</td>\n",
              "      <td>...</td>\n",
              "      <td>...</td>\n",
              "      <td>...</td>\n",
              "      <td>...</td>\n",
              "      <td>...</td>\n",
              "      <td>...</td>\n",
              "      <td>...</td>\n",
              "      <td>...</td>\n",
              "      <td>...</td>\n",
              "      <td>...</td>\n",
              "      <td>...</td>\n",
              "      <td>...</td>\n",
              "      <td>...</td>\n",
              "      <td>...</td>\n",
              "      <td>...</td>\n",
              "      <td>...</td>\n",
              "      <td>...</td>\n",
              "      <td>...</td>\n",
              "      <td>...</td>\n",
              "      <td>...</td>\n",
              "      <td>...</td>\n",
              "      <td>...</td>\n",
              "      <td>...</td>\n",
              "      <td>...</td>\n",
              "      <td>...</td>\n",
              "      <td>...</td>\n",
              "      <td>...</td>\n",
              "      <td>...</td>\n",
              "      <td>...</td>\n",
              "      <td>...</td>\n",
              "      <td>...</td>\n",
              "      <td>...</td>\n",
              "      <td>...</td>\n",
              "      <td>...</td>\n",
              "      <td>...</td>\n",
              "      <td>...</td>\n",
              "      <td>...</td>\n",
              "      <td>...</td>\n",
              "      <td>...</td>\n",
              "      <td>...</td>\n",
              "      <td>...</td>\n",
              "      <td>...</td>\n",
              "      <td>...</td>\n",
              "      <td>...</td>\n",
              "      <td>...</td>\n",
              "      <td>...</td>\n",
              "      <td>...</td>\n",
              "    </tr>\n",
              "    <tr>\n",
              "      <th>1555</th>\n",
              "      <td>-1.000000</td>\n",
              "      <td>-0.728813</td>\n",
              "      <td>-1.000000</td>\n",
              "      <td>-1.000000</td>\n",
              "      <td>-0.617148</td>\n",
              "      <td>-1.000000</td>\n",
              "      <td>-1.000000</td>\n",
              "      <td>-1.000000</td>\n",
              "      <td>-1.000000</td>\n",
              "      <td>-1.000000</td>\n",
              "      <td>-1.000000</td>\n",
              "      <td>-0.674884</td>\n",
              "      <td>-1.000000</td>\n",
              "      <td>-1.000000</td>\n",
              "      <td>-0.576271</td>\n",
              "      <td>-1.0</td>\n",
              "      <td>-1.000000</td>\n",
              "      <td>-0.584745</td>\n",
              "      <td>-0.372880</td>\n",
              "      <td>-1.000000</td>\n",
              "      <td>-1.000000</td>\n",
              "      <td>0.000000</td>\n",
              "      <td>-1.000000</td>\n",
              "      <td>-0.457626</td>\n",
              "      <td>-0.728813</td>\n",
              "      <td>-0.372880</td>\n",
              "      <td>-1.0</td>\n",
              "      <td>-0.792373</td>\n",
              "      <td>-1.000000</td>\n",
              "      <td>-1.000000</td>\n",
              "      <td>-1.000000</td>\n",
              "      <td>-0.398305</td>\n",
              "      <td>-1.0</td>\n",
              "      <td>-1.000000</td>\n",
              "      <td>-0.849576</td>\n",
              "      <td>-1.000000</td>\n",
              "      <td>-1.000000</td>\n",
              "      <td>-0.598870</td>\n",
              "      <td>-1.000000</td>\n",
              "      <td>-1.000000</td>\n",
              "      <td>...</td>\n",
              "      <td>-1.000000</td>\n",
              "      <td>-1.000000</td>\n",
              "      <td>-0.558558</td>\n",
              "      <td>-1.000000</td>\n",
              "      <td>-1.000000</td>\n",
              "      <td>-1.000000</td>\n",
              "      <td>-1.000000</td>\n",
              "      <td>-1.000000</td>\n",
              "      <td>-1.000000</td>\n",
              "      <td>-1.0</td>\n",
              "      <td>-1.000000</td>\n",
              "      <td>-1.000000</td>\n",
              "      <td>-0.451691</td>\n",
              "      <td>0.265718</td>\n",
              "      <td>-0.141103</td>\n",
              "      <td>-0.042295</td>\n",
              "      <td>-0.166135</td>\n",
              "      <td>0.042735</td>\n",
              "      <td>0.219159</td>\n",
              "      <td>-1.000000</td>\n",
              "      <td>-1.000000</td>\n",
              "      <td>0.103030</td>\n",
              "      <td>-1.00000</td>\n",
              "      <td>-1.0</td>\n",
              "      <td>-1.000000</td>\n",
              "      <td>-1.000000</td>\n",
              "      <td>-1.000000</td>\n",
              "      <td>-1.0</td>\n",
              "      <td>-1.00000</td>\n",
              "      <td>-1.000000</td>\n",
              "      <td>-1.0</td>\n",
              "      <td>-0.145455</td>\n",
              "      <td>-1.000000</td>\n",
              "      <td>-1.000000</td>\n",
              "      <td>-0.563637</td>\n",
              "      <td>-1.000000</td>\n",
              "      <td>-0.309091</td>\n",
              "      <td>-1.000000</td>\n",
              "      <td>-0.209091</td>\n",
              "      <td>-1.0</td>\n",
              "    </tr>\n",
              "    <tr>\n",
              "      <th>3500</th>\n",
              "      <td>-0.772586</td>\n",
              "      <td>-1.000000</td>\n",
              "      <td>-1.000000</td>\n",
              "      <td>-1.000000</td>\n",
              "      <td>-1.000000</td>\n",
              "      <td>-0.900312</td>\n",
              "      <td>-1.000000</td>\n",
              "      <td>-1.000000</td>\n",
              "      <td>-0.772586</td>\n",
              "      <td>-0.657321</td>\n",
              "      <td>-1.000000</td>\n",
              "      <td>-0.760974</td>\n",
              "      <td>-1.000000</td>\n",
              "      <td>-0.778816</td>\n",
              "      <td>-0.844237</td>\n",
              "      <td>-1.0</td>\n",
              "      <td>-1.000000</td>\n",
              "      <td>-1.000000</td>\n",
              "      <td>-0.538940</td>\n",
              "      <td>-0.803738</td>\n",
              "      <td>-1.000000</td>\n",
              "      <td>-0.632399</td>\n",
              "      <td>-1.000000</td>\n",
              "      <td>-0.800623</td>\n",
              "      <td>-0.900312</td>\n",
              "      <td>-1.000000</td>\n",
              "      <td>-1.0</td>\n",
              "      <td>-1.000000</td>\n",
              "      <td>-1.000000</td>\n",
              "      <td>-1.000000</td>\n",
              "      <td>-0.856698</td>\n",
              "      <td>-0.778816</td>\n",
              "      <td>-1.0</td>\n",
              "      <td>-0.666043</td>\n",
              "      <td>-1.000000</td>\n",
              "      <td>-0.414331</td>\n",
              "      <td>-1.000000</td>\n",
              "      <td>-0.410174</td>\n",
              "      <td>-0.420562</td>\n",
              "      <td>-1.000000</td>\n",
              "      <td>...</td>\n",
              "      <td>-1.000000</td>\n",
              "      <td>-0.759921</td>\n",
              "      <td>-0.843949</td>\n",
              "      <td>-0.681528</td>\n",
              "      <td>-0.816879</td>\n",
              "      <td>-0.647558</td>\n",
              "      <td>-0.639065</td>\n",
              "      <td>-1.000000</td>\n",
              "      <td>-0.624205</td>\n",
              "      <td>-1.0</td>\n",
              "      <td>-1.000000</td>\n",
              "      <td>-1.000000</td>\n",
              "      <td>0.164154</td>\n",
              "      <td>0.615733</td>\n",
              "      <td>0.343257</td>\n",
              "      <td>0.338833</td>\n",
              "      <td>0.255962</td>\n",
              "      <td>0.522717</td>\n",
              "      <td>0.015626</td>\n",
              "      <td>-1.000000</td>\n",
              "      <td>-0.741853</td>\n",
              "      <td>-0.806176</td>\n",
              "      <td>-1.00000</td>\n",
              "      <td>-1.0</td>\n",
              "      <td>-1.000000</td>\n",
              "      <td>-1.000000</td>\n",
              "      <td>-1.000000</td>\n",
              "      <td>-1.0</td>\n",
              "      <td>-1.00000</td>\n",
              "      <td>-0.776357</td>\n",
              "      <td>-1.0</td>\n",
              "      <td>-1.000000</td>\n",
              "      <td>-0.639617</td>\n",
              "      <td>-1.000000</td>\n",
              "      <td>-0.948882</td>\n",
              "      <td>-0.854632</td>\n",
              "      <td>-1.000000</td>\n",
              "      <td>-0.629393</td>\n",
              "      <td>-1.000000</td>\n",
              "      <td>-1.0</td>\n",
              "    </tr>\n",
              "    <tr>\n",
              "      <th>2963</th>\n",
              "      <td>-1.000000</td>\n",
              "      <td>-0.353536</td>\n",
              "      <td>-1.000000</td>\n",
              "      <td>0.144777</td>\n",
              "      <td>-0.543672</td>\n",
              "      <td>-1.000000</td>\n",
              "      <td>-1.000000</td>\n",
              "      <td>-1.000000</td>\n",
              "      <td>-1.000000</td>\n",
              "      <td>-1.000000</td>\n",
              "      <td>-1.000000</td>\n",
              "      <td>-1.000000</td>\n",
              "      <td>-1.000000</td>\n",
              "      <td>-1.000000</td>\n",
              "      <td>-1.000000</td>\n",
              "      <td>-1.0</td>\n",
              "      <td>-1.000000</td>\n",
              "      <td>-1.000000</td>\n",
              "      <td>-1.000000</td>\n",
              "      <td>-0.363636</td>\n",
              "      <td>-1.000000</td>\n",
              "      <td>-1.000000</td>\n",
              "      <td>-1.000000</td>\n",
              "      <td>-1.000000</td>\n",
              "      <td>-1.000000</td>\n",
              "      <td>-1.000000</td>\n",
              "      <td>-1.0</td>\n",
              "      <td>-1.000000</td>\n",
              "      <td>-1.000000</td>\n",
              "      <td>-0.676768</td>\n",
              "      <td>-1.000000</td>\n",
              "      <td>-1.000000</td>\n",
              "      <td>-1.0</td>\n",
              "      <td>-1.000000</td>\n",
              "      <td>-1.000000</td>\n",
              "      <td>-1.000000</td>\n",
              "      <td>-1.000000</td>\n",
              "      <td>-0.521886</td>\n",
              "      <td>-1.000000</td>\n",
              "      <td>-1.000000</td>\n",
              "      <td>...</td>\n",
              "      <td>-1.000000</td>\n",
              "      <td>-0.726866</td>\n",
              "      <td>-0.467389</td>\n",
              "      <td>-0.456520</td>\n",
              "      <td>-0.374998</td>\n",
              "      <td>-1.000000</td>\n",
              "      <td>-1.000000</td>\n",
              "      <td>-1.000000</td>\n",
              "      <td>-1.000000</td>\n",
              "      <td>-1.0</td>\n",
              "      <td>-1.000000</td>\n",
              "      <td>-1.000000</td>\n",
              "      <td>-0.202536</td>\n",
              "      <td>0.215613</td>\n",
              "      <td>0.164683</td>\n",
              "      <td>0.198703</td>\n",
              "      <td>0.126423</td>\n",
              "      <td>-0.188693</td>\n",
              "      <td>0.547012</td>\n",
              "      <td>-1.000000</td>\n",
              "      <td>-1.000000</td>\n",
              "      <td>-1.000000</td>\n",
              "      <td>-1.00000</td>\n",
              "      <td>-1.0</td>\n",
              "      <td>-1.000000</td>\n",
              "      <td>0.142854</td>\n",
              "      <td>-1.000000</td>\n",
              "      <td>-1.0</td>\n",
              "      <td>-1.00000</td>\n",
              "      <td>-1.000000</td>\n",
              "      <td>-1.0</td>\n",
              "      <td>-1.000000</td>\n",
              "      <td>-0.586814</td>\n",
              "      <td>-1.000000</td>\n",
              "      <td>-1.000000</td>\n",
              "      <td>0.500000</td>\n",
              "      <td>-0.164836</td>\n",
              "      <td>-0.362639</td>\n",
              "      <td>-1.000000</td>\n",
              "      <td>-1.0</td>\n",
              "    </tr>\n",
              "    <tr>\n",
              "      <th>666</th>\n",
              "      <td>-1.000000</td>\n",
              "      <td>-1.000000</td>\n",
              "      <td>-1.000000</td>\n",
              "      <td>-0.763397</td>\n",
              "      <td>-0.905686</td>\n",
              "      <td>-0.866388</td>\n",
              "      <td>-1.000000</td>\n",
              "      <td>-1.000000</td>\n",
              "      <td>-1.000000</td>\n",
              "      <td>-1.000000</td>\n",
              "      <td>-1.000000</td>\n",
              "      <td>-0.439361</td>\n",
              "      <td>-0.802366</td>\n",
              "      <td>-1.000000</td>\n",
              "      <td>-1.000000</td>\n",
              "      <td>-1.0</td>\n",
              "      <td>-1.000000</td>\n",
              "      <td>-0.897704</td>\n",
              "      <td>-0.227558</td>\n",
              "      <td>-1.000000</td>\n",
              "      <td>-0.603340</td>\n",
              "      <td>-0.901461</td>\n",
              "      <td>-1.000000</td>\n",
              "      <td>-1.000000</td>\n",
              "      <td>-1.000000</td>\n",
              "      <td>-1.000000</td>\n",
              "      <td>-1.0</td>\n",
              "      <td>-0.948852</td>\n",
              "      <td>-1.000000</td>\n",
              "      <td>-0.933194</td>\n",
              "      <td>-1.000000</td>\n",
              "      <td>-0.851775</td>\n",
              "      <td>-1.0</td>\n",
              "      <td>-0.888100</td>\n",
              "      <td>-0.962944</td>\n",
              "      <td>-0.869172</td>\n",
              "      <td>-1.000000</td>\n",
              "      <td>-0.802366</td>\n",
              "      <td>-1.000000</td>\n",
              "      <td>-1.000000</td>\n",
              "      <td>...</td>\n",
              "      <td>-0.805085</td>\n",
              "      <td>-0.946762</td>\n",
              "      <td>-1.000000</td>\n",
              "      <td>-1.000000</td>\n",
              "      <td>-0.756356</td>\n",
              "      <td>-0.648305</td>\n",
              "      <td>-1.000000</td>\n",
              "      <td>-0.940678</td>\n",
              "      <td>-1.000000</td>\n",
              "      <td>-1.0</td>\n",
              "      <td>-1.000000</td>\n",
              "      <td>-1.000000</td>\n",
              "      <td>-0.146629</td>\n",
              "      <td>0.653924</td>\n",
              "      <td>-0.023070</td>\n",
              "      <td>0.016509</td>\n",
              "      <td>-0.110655</td>\n",
              "      <td>0.697951</td>\n",
              "      <td>0.112281</td>\n",
              "      <td>-1.000000</td>\n",
              "      <td>-0.914225</td>\n",
              "      <td>-1.000000</td>\n",
              "      <td>-1.00000</td>\n",
              "      <td>-1.0</td>\n",
              "      <td>-1.000000</td>\n",
              "      <td>-1.000000</td>\n",
              "      <td>-1.000000</td>\n",
              "      <td>-1.0</td>\n",
              "      <td>-1.00000</td>\n",
              "      <td>-1.000000</td>\n",
              "      <td>-1.0</td>\n",
              "      <td>-1.000000</td>\n",
              "      <td>0.037790</td>\n",
              "      <td>-1.000000</td>\n",
              "      <td>-0.932060</td>\n",
              "      <td>-0.516985</td>\n",
              "      <td>-0.677283</td>\n",
              "      <td>-0.876858</td>\n",
              "      <td>-1.000000</td>\n",
              "      <td>-1.0</td>\n",
              "    </tr>\n",
              "    <tr>\n",
              "      <th>2306</th>\n",
              "      <td>-1.000000</td>\n",
              "      <td>-1.000000</td>\n",
              "      <td>-0.820690</td>\n",
              "      <td>-1.000000</td>\n",
              "      <td>-0.924706</td>\n",
              "      <td>-1.000000</td>\n",
              "      <td>-1.000000</td>\n",
              "      <td>-1.000000</td>\n",
              "      <td>-1.000000</td>\n",
              "      <td>-0.816666</td>\n",
              "      <td>-1.000000</td>\n",
              "      <td>-0.936060</td>\n",
              "      <td>-1.000000</td>\n",
              "      <td>-0.881666</td>\n",
              "      <td>-0.916667</td>\n",
              "      <td>-1.0</td>\n",
              "      <td>-1.000000</td>\n",
              "      <td>-0.836667</td>\n",
              "      <td>-1.000000</td>\n",
              "      <td>-1.000000</td>\n",
              "      <td>-1.000000</td>\n",
              "      <td>-1.000000</td>\n",
              "      <td>-0.801666</td>\n",
              "      <td>-0.840000</td>\n",
              "      <td>-0.946667</td>\n",
              "      <td>-1.000000</td>\n",
              "      <td>-1.0</td>\n",
              "      <td>-1.000000</td>\n",
              "      <td>-1.000000</td>\n",
              "      <td>-1.000000</td>\n",
              "      <td>-1.000000</td>\n",
              "      <td>-1.000000</td>\n",
              "      <td>-1.0</td>\n",
              "      <td>-0.910666</td>\n",
              "      <td>-1.000000</td>\n",
              "      <td>-0.686667</td>\n",
              "      <td>-1.000000</td>\n",
              "      <td>-0.526666</td>\n",
              "      <td>-0.483334</td>\n",
              "      <td>-1.000000</td>\n",
              "      <td>...</td>\n",
              "      <td>-1.000000</td>\n",
              "      <td>-0.957625</td>\n",
              "      <td>-0.917369</td>\n",
              "      <td>-0.747049</td>\n",
              "      <td>-0.903035</td>\n",
              "      <td>-0.906689</td>\n",
              "      <td>-0.808881</td>\n",
              "      <td>-0.905565</td>\n",
              "      <td>-1.000000</td>\n",
              "      <td>-1.0</td>\n",
              "      <td>-0.723440</td>\n",
              "      <td>-0.860034</td>\n",
              "      <td>0.069026</td>\n",
              "      <td>0.788907</td>\n",
              "      <td>0.090786</td>\n",
              "      <td>0.112239</td>\n",
              "      <td>0.015237</td>\n",
              "      <td>0.788683</td>\n",
              "      <td>-0.038179</td>\n",
              "      <td>-1.000000</td>\n",
              "      <td>-0.658784</td>\n",
              "      <td>-1.000000</td>\n",
              "      <td>-0.77027</td>\n",
              "      <td>-1.0</td>\n",
              "      <td>-0.765203</td>\n",
              "      <td>-1.000000</td>\n",
              "      <td>-1.000000</td>\n",
              "      <td>-1.0</td>\n",
              "      <td>-0.87500</td>\n",
              "      <td>-1.000000</td>\n",
              "      <td>-1.0</td>\n",
              "      <td>-1.000000</td>\n",
              "      <td>-0.745946</td>\n",
              "      <td>-0.945946</td>\n",
              "      <td>-0.945946</td>\n",
              "      <td>-0.692567</td>\n",
              "      <td>-0.871622</td>\n",
              "      <td>-0.706081</td>\n",
              "      <td>-1.000000</td>\n",
              "      <td>-1.0</td>\n",
              "    </tr>\n",
              "  </tbody>\n",
              "</table>\n",
              "<p>897 rows × 400 columns</p>\n",
              "</div>"
            ],
            "text/plain": [
              "           1         2         3         4    ...       397       398       399  400\n",
              "1907 -1.000000 -1.000000 -1.000000 -1.000000  ... -0.457143 -0.792857 -0.378571 -1.0\n",
              "1869 -0.836323 -0.856502 -0.919592 -0.745890  ... -0.305936 -0.602740 -0.602740 -1.0\n",
              "2719 -1.000000 -0.900929 -0.888972 -1.000000  ... -1.000000 -0.447620 -0.723810 -1.0\n",
              "2618 -1.000000 -1.000000 -1.000000 -1.000000  ... -0.652968 -0.867580 -1.000000 -1.0\n",
              "2229 -1.000000 -1.000000 -0.895140 -1.000000  ... -1.000000 -0.826348 -1.000000 -1.0\n",
              "...        ...       ...       ...       ...  ...       ...       ...       ...  ...\n",
              "1555 -1.000000 -0.728813 -1.000000 -1.000000  ... -0.309091 -1.000000 -0.209091 -1.0\n",
              "3500 -0.772586 -1.000000 -1.000000 -1.000000  ... -1.000000 -0.629393 -1.000000 -1.0\n",
              "2963 -1.000000 -0.353536 -1.000000  0.144777  ... -0.164836 -0.362639 -1.000000 -1.0\n",
              "666  -1.000000 -1.000000 -1.000000 -0.763397  ... -0.677283 -0.876858 -1.000000 -1.0\n",
              "2306 -1.000000 -1.000000 -0.820690 -1.000000  ... -0.871622 -0.706081 -1.000000 -1.0\n",
              "\n",
              "[897 rows x 400 columns]"
            ]
          },
          "metadata": {
            "tags": []
          },
          "execution_count": 469
        }
      ]
    },
    {
      "cell_type": "code",
      "metadata": {
        "id": "aXXwg6QJw-qF",
        "colab_type": "code",
        "colab": {}
      },
      "source": [
        ""
      ],
      "execution_count": 0,
      "outputs": []
    },
    {
      "cell_type": "markdown",
      "metadata": {
        "id": "-9A-wr6Qxdsl",
        "colab_type": "text"
      },
      "source": [
        "#นอมอไลน์\n"
      ]
    },
    {
      "cell_type": "code",
      "metadata": {
        "id": "wElw9VUlxh19",
        "colab_type": "code",
        "colab": {}
      },
      "source": [
        "from sklearn.preprocessing import MinMaxScaler"
      ],
      "execution_count": 0,
      "outputs": []
    },
    {
      "cell_type": "code",
      "metadata": {
        "id": "ESBUcYepxp6d",
        "colab_type": "code",
        "colab": {}
      },
      "source": [
        "scl =MinMaxScaler()\n",
        "scl.fit(X_train)\n",
        "x_train_norm = scl.transform(X_train)\n",
        "x_val_norm = scl.transform(X_val)"
      ],
      "execution_count": 0,
      "outputs": []
    },
    {
      "cell_type": "code",
      "metadata": {
        "id": "U_FiEZ4JyduN",
        "colab_type": "code",
        "outputId": "1b1f29fe-7a94-4e0a-889e-85119ccd90c3",
        "colab": {
          "base_uri": "https://localhost:8080/",
          "height": 1000
        }
      },
      "source": [
        "x_val_norm.max(axis=0)"
      ],
      "execution_count": 0,
      "outputs": [
        {
          "output_type": "execute_result",
          "data": {
            "text/plain": [
              "array([0.4506174 , 0.323232  , 0.8872135 , 0.899468  , 1.41666537,\n",
              "       0.371373  , 1.1000011 , 0.8554225 , 0.4244175 , 0.8088255 ,\n",
              "       0.563492  , 1.26421851, 0.415206  , 0.6068375 , 0.47619   ,\n",
              "       0.7199995 , 0.685071  , 0.54044095, 0.8915675 , 0.5478265 ,\n",
              "       1.32631536, 1.06779654, 0.691861  , 0.415584  , 0.687117  ,\n",
              "       0.698113  , 1.16279002, 0.46102115, 0.760328  , 0.4894112 ,\n",
              "       1.46376772, 0.9861125 , 0.762034  , 0.8507935 , 0.280855  ,\n",
              "       0.9641015 , 0.64516   , 0.893081  , 0.65263   , 0.5357143 ,\n",
              "       1.11304348, 0.687072  , 0.6094655 , 0.512456  , 0.776179  ,\n",
              "       0.89997312, 0.7213935 , 0.39889834, 1.01746892, 0.5887075 ,\n",
              "       1.17829625, 0.352941  , 0.53479805, 0.422535  , 0.8985495 ,\n",
              "       0.758063  , 0.54044095, 0.992002  , 0.607845  , 1.08024783,\n",
              "       0.4204205 , 0.781818  , 0.414966  , 0.870936  , 0.813954  ,\n",
              "       0.7078665 , 0.350877  , 0.2325585 , 0.674795  , 0.9655165 ,\n",
              "       0.9666675 , 1.03571079, 1.42045455, 0.625779  , 0.759492  ,\n",
              "       0.9523795 , 0.7067325 , 0.7959205 , 0.7070705 , 0.589625  ,\n",
              "       0.6730775 , 0.3535355 , 1.85487341, 1.03686576, 0.692308  ,\n",
              "       1.03365156, 1.07092466, 0.4561406 , 0.6625755 , 1.28149679,\n",
              "       0.647999  , 0.575344  , 1.01325079, 0.33735091, 1.01801583,\n",
              "       0.943753  , 0.9856655 , 0.739132  , 0.662554  , 0.4347825 ,\n",
              "       0.6351345 , 0.695342  , 0.9145285 , 1.09523867, 1.07647609,\n",
              "       0.7446035 , 0.736606  , 0.865386  , 0.766665  , 0.6022715 ,\n",
              "       0.6133335 , 0.4347825 , 0.776471  , 0.9176475 , 0.686274  ,\n",
              "       0.7035415 , 0.7878765 , 0.9078955 , 1.23529688, 1.9459459 ,\n",
              "       0.683615  , 0.1666665 , 0.609137  , 0.448     , 0.7142855 ,\n",
              "       0.84729   , 0.657276  , 0.6736845 , 0.8888875 , 0.566667  ,\n",
              "       0.6055045 , 0.9698275 , 0.3729725 , 0.669456  , 0.8030305 ,\n",
              "       0.6880715 , 0.9919375 , 0.7464795 , 0.566372  , 0.961167  ,\n",
              "       0.6126655 , 0.29052186, 0.927916  , 1.0022606 , 0.73611   ,\n",
              "       0.705     , 0.5947725 , 0.53254405, 0.7438525 , 0.94      ,\n",
              "       1.18491064, 0.7014915 , 0.628744  , 0.8555555 , 1.24584666,\n",
              "       0.46254635, 0.6872865 , 0.7941145 , 0.926228  , 0.9027795 ,\n",
              "       1.05785292, 0.82927   , 0.9272705 , 0.45414765, 0.45273655,\n",
              "       0.6916665 , 0.5784315 , 1.64864967, 0.704     , 0.4464275 ,\n",
              "       0.6318845 , 0.8       , 0.6666655 , 0.209677  , 0.5940605 ,\n",
              "       0.854167  , 0.7025635 , 0.9492735 , 0.7440475 , 0.711679  ,\n",
              "       1.        , 0.365079  , 1.26190529, 0.943037  , 0.552146  ,\n",
              "       0.3913055 , 1.01433766, 0.9401455 , 0.997306  , 0.8986555 ,\n",
              "       1.00439876, 0.430656  , 0.64      , 0.739877  , 0.2647055 ,\n",
              "       0.993243  , 0.721381  , 0.968421  , 0.7599995 , 0.48484825,\n",
              "       0.6964315 , 0.880386  , 0.3661195 , 0.7570625 , 0.9918045 ,\n",
              "       0.528301  , 1.25713977, 0.7213915 , 0.8951605 , 0.447369  ,\n",
              "       1.03472217, 0.9357805 , 0.788572  , 0.6685715 , 0.9520985 ,\n",
              "       1.30508605, 0.5164829 , 0.864411  , 0.8705885 , 0.863949  ,\n",
              "       0.713414  , 0.8834255 , 0.6319455 , 1.25510199, 0.4932735 ,\n",
              "       0.958333  , 0.6216205 , 0.387283  , 1.31521753, 1.08880335,\n",
              "       1.01633246, 1.06308859, 0.9346635 , 0.88110252, 1.06329135,\n",
              "       0.321168  , 0.481751  , 0.7860965 , 0.5114764 , 0.31884   ,\n",
              "       0.757574  , 0.871793  , 1.10294016, 0.843136  , 0.825001  ,\n",
              "       0.8445455 , 0.412844  , 0.769231  , 0.884955  , 0.831274  ,\n",
              "       0.726774  , 0.2682925 , 0.841462  , 1.02061854, 0.9082565 ,\n",
              "       0.761904  , 1.04629598, 0.366057  , 1.23529612, 0.3038675 ,\n",
              "       1.07407175, 0.7085825 , 0.611111  , 1.03521115, 1.32600495,\n",
              "       0.776471  , 0.5929415 , 0.641025  , 0.991736  , 0.7581695 ,\n",
              "       0.958675  , 0.709679  , 0.743903  , 0.4252895 , 0.743903  ,\n",
              "       0.6813195 , 1.22872463, 1.01433458, 0.765406  , 0.935603  ,\n",
              "       0.7828205 , 0.97899   , 1.0056017 , 0.8818725 , 0.437502  ,\n",
              "       1.04151044, 0.235849  , 0.663267  , 0.328359  , 0.767122  ,\n",
              "       1.0602402 , 0.5873505 , 0.8333335 , 1.01064002, 0.6475415 ,\n",
              "       0.767442  , 1.0847087 , 0.810605  , 0.66573   , 0.4281345 ,\n",
              "       0.8999995 , 1.4691407 , 0.5583355 , 0.431818  , 0.660436  ,\n",
              "       0.7226885 , 0.610738  , 0.7553195 , 0.6666655 , 0.8062    ,\n",
              "       0.671756  , 0.8083335 , 0.9416695 , 0.873238  , 0.774194  ,\n",
              "       1.02415364, 1.11666715, 0.754166  , 1.14696393, 0.552326  ,\n",
              "       0.8333365 , 0.4596477 , 0.7368445 , 0.856643  , 1.09365097,\n",
              "       0.23695647, 1.01598552, 0.99863128, 0.55190187, 0.589431  ,\n",
              "       0.9342115 , 0.754809  , 0.7894725 , 0.565574  , 0.9887625 ,\n",
              "       0.9210555 , 0.8545445 , 0.6721305 , 0.5466663 , 0.7047625 ,\n",
              "       0.689076  , 0.7828925 , 1.03030328, 0.4615378 , 0.102273  ,\n",
              "       0.6885235 , 0.2372885 , 0.68376   , 0.2535215 , 0.910568  ,\n",
              "       1.4352927 , 0.675258  , 0.6456595 , 0.6902655 , 0.9277125 ,\n",
              "       0.3999995 , 0.6603155 , 0.651687  , 0.681081  , 0.678789  ,\n",
              "       0.884618  , 0.3720585 , 1.41496252, 0.75188   , 0.809859  ,\n",
              "       1.27710822, 0.6159415 , 0.455284  , 0.9915925 , 0.5454543 ,\n",
              "       0.766357  , 1.15662896, 0.9007675 , 1.01377569, 0.917665  ,\n",
              "       0.926107  , 0.9153105 , 1.0019503 , 0.958288  , 0.427967  ,\n",
              "       1.29950716, 0.65942   , 0.704663  , 0.6975295 , 0.720207  ,\n",
              "       0.981129  , 0.6742845 , 0.853209  , 0.961039  , 0.7641945 ,\n",
              "       0.53390035, 0.5731695 , 0.737255  , 0.1666665 , 0.228571  ,\n",
              "       0.75      , 0.73077   , 0.5948705 , 1.25287456, 0.834436  ])"
            ]
          },
          "metadata": {
            "tags": []
          },
          "execution_count": 472
        }
      ]
    },
    {
      "cell_type": "code",
      "metadata": {
        "id": "J3x93j-Ky87K",
        "colab_type": "code",
        "outputId": "8cc5fe69-47fd-4b9e-9404-0f444282c9ed",
        "colab": {
          "base_uri": "https://localhost:8080/",
          "height": 232
        }
      },
      "source": [
        "y_train"
      ],
      "execution_count": 0,
      "outputs": [
        {
          "output_type": "execute_result",
          "data": {
            "text/plain": [
              "3174    1\n",
              "991     0\n",
              "3102    1\n",
              "2448    1\n",
              "3199    1\n",
              "       ..\n",
              "835     0\n",
              "3264    1\n",
              "1653    1\n",
              "2607    1\n",
              "2732    1\n",
              "Name: 0, Length: 2690, dtype: int64"
            ]
          },
          "metadata": {
            "tags": []
          },
          "execution_count": 473
        }
      ]
    },
    {
      "cell_type": "code",
      "metadata": {
        "id": "dwyNXnb9zCKc",
        "colab_type": "code",
        "outputId": "40c82c80-86de-43e1-85fb-589da0a150c6",
        "colab": {
          "base_uri": "https://localhost:8080/",
          "height": 232
        }
      },
      "source": [
        "y_val"
      ],
      "execution_count": 0,
      "outputs": [
        {
          "output_type": "execute_result",
          "data": {
            "text/plain": [
              "1907    1\n",
              "1869    1\n",
              "2719    1\n",
              "2618    1\n",
              "2229    1\n",
              "       ..\n",
              "1555    1\n",
              "3500    1\n",
              "2963    1\n",
              "666     0\n",
              "2306    1\n",
              "Name: 0, Length: 897, dtype: int64"
            ]
          },
          "metadata": {
            "tags": []
          },
          "execution_count": 474
        }
      ]
    },
    {
      "cell_type": "markdown",
      "metadata": {
        "id": "VB-bNtKj16GH",
        "colab_type": "text"
      },
      "source": [
        "#Predict Model SVM"
      ]
    },
    {
      "cell_type": "code",
      "metadata": {
        "id": "HFuNBjdO_E78",
        "colab_type": "code",
        "outputId": "b3b04e9b-050b-4a21-d2e9-4d7ed3514abd",
        "colab": {
          "base_uri": "https://localhost:8080/",
          "height": 88
        }
      },
      "source": [
        "from sklearn import svm\n",
        "clfsvc = svm.SVC(gamma='scale',C=1.18 , degree=1.5)\n",
        "clfsvc"
      ],
      "execution_count": 0,
      "outputs": [
        {
          "output_type": "execute_result",
          "data": {
            "text/plain": [
              "SVC(C=1.18, cache_size=200, class_weight=None, coef0=0.0,\n",
              "    decision_function_shape='ovr', degree=1.5, gamma='scale', kernel='rbf',\n",
              "    max_iter=-1, probability=False, random_state=None, shrinking=True,\n",
              "    tol=0.001, verbose=False)"
            ]
          },
          "metadata": {
            "tags": []
          },
          "execution_count": 475
        }
      ]
    },
    {
      "cell_type": "code",
      "metadata": {
        "id": "2qkm8NRoSvLj",
        "colab_type": "code",
        "colab": {}
      },
      "source": [
        ""
      ],
      "execution_count": 0,
      "outputs": []
    },
    {
      "cell_type": "code",
      "metadata": {
        "id": "FXDE_ief_nAk",
        "colab_type": "code",
        "outputId": "3774b925-442d-491f-f948-68adc5569b60",
        "colab": {
          "base_uri": "https://localhost:8080/",
          "height": 88
        }
      },
      "source": [
        "clfsvc.fit(x_train_norm,y_train)"
      ],
      "execution_count": 0,
      "outputs": [
        {
          "output_type": "execute_result",
          "data": {
            "text/plain": [
              "SVC(C=1.15, cache_size=180, class_weight=None, coef0=0.0,\n",
              "    decision_function_shape='ovr', degree=1, gamma='scale', kernel='rbf',\n",
              "    max_iter=-1, probability=False, random_state=None, shrinking=True,\n",
              "    tol=0.002, verbose=False)"
            ]
          },
          "metadata": {
            "tags": []
          },
          "execution_count": 520
        }
      ]
    },
    {
      "cell_type": "markdown",
      "metadata": {
        "id": "2TnrusfeDHWC",
        "colab_type": "text"
      },
      "source": [
        "Tune"
      ]
    },
    {
      "cell_type": "code",
      "metadata": {
        "id": "1QxnI5SezMzL",
        "colab_type": "code",
        "outputId": "eaa49227-6113-4e95-a48e-d73d50ca75f7",
        "colab": {
          "base_uri": "https://localhost:8080/",
          "height": 34
        }
      },
      "source": [
        "from sklearn import svm\n",
        "clfsvc = svm.SVC(gamma='scale',C=1.15 , degree=1 ,cache_size=180,tol=0.002)\n",
        "accuracy = cross_val_score(clfsvc,X_train,y_train,cv=5)\n",
        "accuracy.mean()"
      ],
      "execution_count": 0,
      "outputs": [
        {
          "output_type": "execute_result",
          "data": {
            "text/plain": [
              "0.8048480707728253"
            ]
          },
          "metadata": {
            "tags": []
          },
          "execution_count": 477
        }
      ]
    },
    {
      "cell_type": "code",
      "metadata": {
        "id": "46acOmw6yly6",
        "colab_type": "code",
        "colab": {}
      },
      "source": [
        ""
      ],
      "execution_count": 0,
      "outputs": []
    },
    {
      "cell_type": "markdown",
      "metadata": {
        "id": "hf0qZcZIDJfr",
        "colab_type": "text"
      },
      "source": [
        "Test"
      ]
    },
    {
      "cell_type": "code",
      "metadata": {
        "id": "Vmf4mb8z_PIl",
        "colab_type": "code",
        "outputId": "da165d13-2381-45b9-d625-dface1690864",
        "colab": {
          "base_uri": "https://localhost:8080/",
          "height": 34
        }
      },
      "source": [
        "y_predict =clfsvc.predict(x_val_norm)\n",
        "sum(y_predict == y_val)/len(y_val)"
      ],
      "execution_count": 0,
      "outputs": [
        {
          "output_type": "execute_result",
          "data": {
            "text/plain": [
              "0.8060200668896321"
            ]
          },
          "metadata": {
            "tags": []
          },
          "execution_count": 521
        }
      ]
    },
    {
      "cell_type": "markdown",
      "metadata": {
        "id": "n-ckk_lxBL59",
        "colab_type": "text"
      },
      "source": [
        "#Predict Model LogisticRegression"
      ]
    },
    {
      "cell_type": "code",
      "metadata": {
        "id": "YVVIKNTsBDRU",
        "colab_type": "code",
        "outputId": "b93fc857-d35b-43fb-b357-b7d018234e54",
        "colab": {
          "base_uri": "https://localhost:8080/",
          "height": 106
        }
      },
      "source": [
        "from sklearn.linear_model import LogisticRegression\n",
        "clfl =LogisticRegression()\n",
        "clfl"
      ],
      "execution_count": 0,
      "outputs": [
        {
          "output_type": "execute_result",
          "data": {
            "text/plain": [
              "LogisticRegression(C=1.0, class_weight=None, dual=False, fit_intercept=True,\n",
              "                   intercept_scaling=1, l1_ratio=None, max_iter=100,\n",
              "                   multi_class='warn', n_jobs=None, penalty='l2',\n",
              "                   random_state=None, solver='warn', tol=0.0001, verbose=0,\n",
              "                   warm_start=False)"
            ]
          },
          "metadata": {
            "tags": []
          },
          "execution_count": 522
        }
      ]
    },
    {
      "cell_type": "code",
      "metadata": {
        "id": "cmMhnrnlBZYT",
        "colab_type": "code",
        "outputId": "91ecb71e-ecab-4fc0-acc2-40a3f2e3d75a",
        "colab": {
          "base_uri": "https://localhost:8080/",
          "height": 142
        }
      },
      "source": [
        "clfl.fit(x_train_norm,y_train)"
      ],
      "execution_count": 0,
      "outputs": [
        {
          "output_type": "stream",
          "text": [
            "/usr/local/lib/python3.6/dist-packages/sklearn/linear_model/logistic.py:432: FutureWarning: Default solver will be changed to 'lbfgs' in 0.22. Specify a solver to silence this warning.\n",
            "  FutureWarning)\n"
          ],
          "name": "stderr"
        },
        {
          "output_type": "execute_result",
          "data": {
            "text/plain": [
              "LogisticRegression(C=1.0, class_weight=None, dual=False, fit_intercept=True,\n",
              "                   intercept_scaling=1, l1_ratio=None, max_iter=100,\n",
              "                   multi_class='warn', n_jobs=None, penalty='l2',\n",
              "                   random_state=None, solver='warn', tol=0.0001, verbose=0,\n",
              "                   warm_start=False)"
            ]
          },
          "metadata": {
            "tags": []
          },
          "execution_count": 526
        }
      ]
    },
    {
      "cell_type": "markdown",
      "metadata": {
        "id": "wnhA_GKqCYra",
        "colab_type": "text"
      },
      "source": [
        "Tune"
      ]
    },
    {
      "cell_type": "code",
      "metadata": {
        "id": "KMn6li97BdCb",
        "colab_type": "code",
        "outputId": "c787c903-2316-4012-aec2-10eb8be3b47c",
        "colab": {
          "base_uri": "https://localhost:8080/",
          "height": 214
        }
      },
      "source": [
        "from sklearn.linear_model import LogisticRegression\n",
        "clfl = LogisticRegression()\n",
        "accuracy = cross_val_score(clfl,X_train,y_train,cv=5)\n",
        "accuracy.mean()"
      ],
      "execution_count": 0,
      "outputs": [
        {
          "output_type": "stream",
          "text": [
            "/usr/local/lib/python3.6/dist-packages/sklearn/linear_model/logistic.py:432: FutureWarning: Default solver will be changed to 'lbfgs' in 0.22. Specify a solver to silence this warning.\n",
            "  FutureWarning)\n",
            "/usr/local/lib/python3.6/dist-packages/sklearn/linear_model/logistic.py:432: FutureWarning: Default solver will be changed to 'lbfgs' in 0.22. Specify a solver to silence this warning.\n",
            "  FutureWarning)\n",
            "/usr/local/lib/python3.6/dist-packages/sklearn/linear_model/logistic.py:432: FutureWarning: Default solver will be changed to 'lbfgs' in 0.22. Specify a solver to silence this warning.\n",
            "  FutureWarning)\n",
            "/usr/local/lib/python3.6/dist-packages/sklearn/linear_model/logistic.py:432: FutureWarning: Default solver will be changed to 'lbfgs' in 0.22. Specify a solver to silence this warning.\n",
            "  FutureWarning)\n",
            "/usr/local/lib/python3.6/dist-packages/sklearn/linear_model/logistic.py:432: FutureWarning: Default solver will be changed to 'lbfgs' in 0.22. Specify a solver to silence this warning.\n",
            "  FutureWarning)\n"
          ],
          "name": "stderr"
        },
        {
          "output_type": "execute_result",
          "data": {
            "text/plain": [
              "0.7762192996580651"
            ]
          },
          "metadata": {
            "tags": []
          },
          "execution_count": 528
        }
      ]
    },
    {
      "cell_type": "markdown",
      "metadata": {
        "id": "SKc1NBh1CbIi",
        "colab_type": "text"
      },
      "source": [
        "Test"
      ]
    },
    {
      "cell_type": "code",
      "metadata": {
        "id": "SOzchBfSBbGD",
        "colab_type": "code",
        "outputId": "9ce3821b-ca6f-4ea7-e73a-3303b669fe63",
        "colab": {
          "base_uri": "https://localhost:8080/",
          "height": 34
        }
      },
      "source": [
        "y_predict =clfl.predict(x_val_norm)\n",
        "sum(y_predict == y_val)/len(y_val)"
      ],
      "execution_count": 0,
      "outputs": [
        {
          "output_type": "execute_result",
          "data": {
            "text/plain": [
              "0.7803790412486065"
            ]
          },
          "metadata": {
            "tags": []
          },
          "execution_count": 527
        }
      ]
    },
    {
      "cell_type": "markdown",
      "metadata": {
        "id": "72ku-F_3C1Lc",
        "colab_type": "text"
      },
      "source": [
        "#Predict with Model K-Nearest Neighbor"
      ]
    },
    {
      "cell_type": "code",
      "metadata": {
        "id": "EywMhVZjCgUT",
        "colab_type": "code",
        "outputId": "b4ced467-afa7-4f93-9656-749b2e870e15",
        "colab": {
          "base_uri": "https://localhost:8080/",
          "height": 142
        }
      },
      "source": [
        "from sklearn.neighbors import NearestNeighbors\n",
        "clfN =XGBClassifier(n_neighbors=1, algorithm='ball_tree',)\n",
        "clfN"
      ],
      "execution_count": 0,
      "outputs": [
        {
          "output_type": "execute_result",
          "data": {
            "text/plain": [
              "XGBClassifier(algorithm='ball_tree', base_score=0.5, booster='gbtree',\n",
              "              colsample_bylevel=1, colsample_bynode=1, colsample_bytree=1,\n",
              "              gamma=0, learning_rate=0.1, max_delta_step=0, max_depth=3,\n",
              "              min_child_weight=1, missing=None, n_estimators=100, n_jobs=1,\n",
              "              n_neighbors=1, nthread=None, objective='binary:logistic',\n",
              "              random_state=0, reg_alpha=0, reg_lambda=1, scale_pos_weight=1,\n",
              "              seed=None, silent=None, subsample=1, verbosity=1)"
            ]
          },
          "metadata": {
            "tags": []
          },
          "execution_count": 533
        }
      ]
    },
    {
      "cell_type": "code",
      "metadata": {
        "id": "fxxhd6XTCVbs",
        "colab_type": "code",
        "outputId": "7d5da73d-c514-410f-fee8-5f57c9231806",
        "colab": {
          "base_uri": "https://localhost:8080/",
          "height": 142
        }
      },
      "source": [
        "clfN.fit(x_train_norm,y_train)"
      ],
      "execution_count": 0,
      "outputs": [
        {
          "output_type": "execute_result",
          "data": {
            "text/plain": [
              "XGBClassifier(algorithm='ball_tree', base_score=0.5, booster='gbtree',\n",
              "              colsample_bylevel=1, colsample_bynode=1, colsample_bytree=1,\n",
              "              gamma=0, learning_rate=0.1, max_delta_step=0, max_depth=3,\n",
              "              min_child_weight=1, missing=None, n_estimators=100, n_jobs=1,\n",
              "              n_neighbors=1, nthread=None, objective='binary:logistic',\n",
              "              random_state=0, reg_alpha=0, reg_lambda=1, scale_pos_weight=1,\n",
              "              seed=None, silent=None, subsample=1, verbosity=1)"
            ]
          },
          "metadata": {
            "tags": []
          },
          "execution_count": 534
        }
      ]
    },
    {
      "cell_type": "code",
      "metadata": {
        "id": "iu9eZvkODiDU",
        "colab_type": "code",
        "outputId": "04359595-a7fa-4d81-ac64-27192291c3ce",
        "colab": {
          "base_uri": "https://localhost:8080/",
          "height": 34
        }
      },
      "source": [
        "\n",
        "accuracy = cross_val_score(clfN,X_train,y_train,cv=5)\n",
        "accuracy.mean()"
      ],
      "execution_count": 0,
      "outputs": [
        {
          "output_type": "execute_result",
          "data": {
            "text/plain": [
              "0.7974138033893505"
            ]
          },
          "metadata": {
            "tags": []
          },
          "execution_count": 535
        }
      ]
    },
    {
      "cell_type": "code",
      "metadata": {
        "id": "M4f1IKV-DqIX",
        "colab_type": "code",
        "outputId": "9f5cedfb-ef5a-492e-d1ca-6f6228caf04c",
        "colab": {
          "base_uri": "https://localhost:8080/",
          "height": 34
        }
      },
      "source": [
        "y_predict =clfN.predict(x_val_norm)\n",
        "sum(y_predict == y_val)/len(y_val)"
      ],
      "execution_count": 0,
      "outputs": [
        {
          "output_type": "execute_result",
          "data": {
            "text/plain": [
              "0.798216276477146"
            ]
          },
          "metadata": {
            "tags": []
          },
          "execution_count": 536
        }
      ]
    },
    {
      "cell_type": "markdown",
      "metadata": {
        "id": "oXraEwArEg_t",
        "colab_type": "text"
      },
      "source": [
        "#Predict With Model Naïve Bayes"
      ]
    },
    {
      "cell_type": "code",
      "metadata": {
        "id": "ihyFuTazDuiH",
        "colab_type": "code",
        "outputId": "43d87583-12c9-4777-9fad-7b7c9bcc849c",
        "colab": {
          "base_uri": "https://localhost:8080/",
          "height": 34
        }
      },
      "source": [
        "from sklearn.naive_bayes import GaussianNB\n",
        "clfG = GaussianNB()\n",
        "clfG"
      ],
      "execution_count": 0,
      "outputs": [
        {
          "output_type": "execute_result",
          "data": {
            "text/plain": [
              "GaussianNB(priors=None, var_smoothing=1e-09)"
            ]
          },
          "metadata": {
            "tags": []
          },
          "execution_count": 537
        }
      ]
    },
    {
      "cell_type": "code",
      "metadata": {
        "id": "NsKik40pD5eQ",
        "colab_type": "code",
        "outputId": "197fc9e3-ccc3-459c-ff94-4922cd7be912",
        "colab": {
          "base_uri": "https://localhost:8080/",
          "height": 34
        }
      },
      "source": [
        "from sklearn.naive_bayes import GaussianNB\n",
        "\n",
        "accuracy = cross_val_score(clfG,X_train,y_train,cv=4)\n",
        "accuracy.mean()"
      ],
      "execution_count": 0,
      "outputs": [
        {
          "output_type": "execute_result",
          "data": {
            "text/plain": [
              "0.7349523544581038"
            ]
          },
          "metadata": {
            "tags": []
          },
          "execution_count": 538
        }
      ]
    },
    {
      "cell_type": "code",
      "metadata": {
        "id": "318M6peZEKOg",
        "colab_type": "code",
        "outputId": "7ad467a2-b6d2-4919-db95-e9576f6f4160",
        "colab": {
          "base_uri": "https://localhost:8080/",
          "height": 34
        }
      },
      "source": [
        "clfG.fit(x_train_norm,y_train)"
      ],
      "execution_count": 0,
      "outputs": [
        {
          "output_type": "execute_result",
          "data": {
            "text/plain": [
              "GaussianNB(priors=None, var_smoothing=1e-09)"
            ]
          },
          "metadata": {
            "tags": []
          },
          "execution_count": 539
        }
      ]
    },
    {
      "cell_type": "code",
      "metadata": {
        "id": "9vz07W-pECPI",
        "colab_type": "code",
        "outputId": "39947751-04be-4bcb-d2a6-a6863d04ce4b",
        "colab": {
          "base_uri": "https://localhost:8080/",
          "height": 34
        }
      },
      "source": [
        "y_predict =clfG.predict(x_val_norm)\n",
        "sum(y_predict == y_val)/len(y_val)"
      ],
      "execution_count": 0,
      "outputs": [
        {
          "output_type": "execute_result",
          "data": {
            "text/plain": [
              "0.7212931995540691"
            ]
          },
          "metadata": {
            "tags": []
          },
          "execution_count": 540
        }
      ]
    },
    {
      "cell_type": "markdown",
      "metadata": {
        "id": "IKnMd4bdEzxP",
        "colab_type": "text"
      },
      "source": [
        "#Predict With Model Decision Tree"
      ]
    },
    {
      "cell_type": "code",
      "metadata": {
        "id": "L6hqhv-iEORS",
        "colab_type": "code",
        "outputId": "84eea78f-f122-443e-be31-b9da07f7a22c",
        "colab": {
          "base_uri": "https://localhost:8080/",
          "height": 124
        }
      },
      "source": [
        "from sklearn import tree\n",
        "clft = tree.DecisionTreeClassifier()\n",
        "clft\n",
        "clft.fit(x_train_norm,y_train)"
      ],
      "execution_count": 0,
      "outputs": [
        {
          "output_type": "execute_result",
          "data": {
            "text/plain": [
              "DecisionTreeClassifier(class_weight=None, criterion='gini', max_depth=None,\n",
              "                       max_features=None, max_leaf_nodes=None,\n",
              "                       min_impurity_decrease=0.0, min_impurity_split=None,\n",
              "                       min_samples_leaf=1, min_samples_split=2,\n",
              "                       min_weight_fraction_leaf=0.0, presort=False,\n",
              "                       random_state=None, splitter='best')"
            ]
          },
          "metadata": {
            "tags": []
          },
          "execution_count": 547
        }
      ]
    },
    {
      "cell_type": "code",
      "metadata": {
        "id": "aNOYwakdEn2h",
        "colab_type": "code",
        "outputId": "e2aa7161-e895-4d1c-af12-7bb953b51730",
        "colab": {
          "base_uri": "https://localhost:8080/",
          "height": 34
        }
      },
      "source": [
        "from sklearn import tree\n",
        "clft = tree.DecisionTreeClassifier()\n",
        "accuracy = cross_val_score(clft,X_train,y_train,cv=10)\n",
        "accuracy.mean()"
      ],
      "execution_count": 0,
      "outputs": [
        {
          "output_type": "execute_result",
          "data": {
            "text/plain": [
              "0.6824865141455054"
            ]
          },
          "metadata": {
            "tags": []
          },
          "execution_count": 542
        }
      ]
    },
    {
      "cell_type": "code",
      "metadata": {
        "id": "0W-VgINvExOS",
        "colab_type": "code",
        "outputId": "e5d7ede4-a6a8-4317-de23-773b5bccc734",
        "colab": {
          "base_uri": "https://localhost:8080/",
          "height": 34
        }
      },
      "source": [
        "y_predict =clft.predict(x_val_norm)\n",
        "sum(y_predict == y_val)/len(y_val)"
      ],
      "execution_count": 0,
      "outputs": [
        {
          "output_type": "execute_result",
          "data": {
            "text/plain": [
              "0.6800445930880713"
            ]
          },
          "metadata": {
            "tags": []
          },
          "execution_count": 548
        }
      ]
    },
    {
      "cell_type": "markdown",
      "metadata": {
        "id": "d4n55pyFFLeM",
        "colab_type": "text"
      },
      "source": [
        "#SGD Classifier"
      ]
    },
    {
      "cell_type": "code",
      "metadata": {
        "id": "JwHahc2AFHjb",
        "colab_type": "code",
        "colab": {}
      },
      "source": [
        "from sklearn import linear_model\n",
        "clfli = linear_model.SGDClassifier(max_iter=1000, tol=1e-3)"
      ],
      "execution_count": 0,
      "outputs": []
    },
    {
      "cell_type": "code",
      "metadata": {
        "id": "QqJEAzBQFSWR",
        "colab_type": "code",
        "outputId": "26385ebe-be87-4a3b-8940-475e5bf0cff0",
        "colab": {
          "base_uri": "https://localhost:8080/",
          "height": 124
        }
      },
      "source": [
        "clfli.fit(x_train_norm,y_train)\n"
      ],
      "execution_count": 0,
      "outputs": [
        {
          "output_type": "execute_result",
          "data": {
            "text/plain": [
              "SGDClassifier(alpha=0.0001, average=False, class_weight=None,\n",
              "              early_stopping=False, epsilon=0.1, eta0=0.0, fit_intercept=True,\n",
              "              l1_ratio=0.15, learning_rate='optimal', loss='hinge',\n",
              "              max_iter=1000, n_iter_no_change=5, n_jobs=None, penalty='l2',\n",
              "              power_t=0.5, random_state=None, shuffle=True, tol=0.001,\n",
              "              validation_fraction=0.1, verbose=0, warm_start=False)"
            ]
          },
          "metadata": {
            "tags": []
          },
          "execution_count": 550
        }
      ]
    },
    {
      "cell_type": "code",
      "metadata": {
        "id": "x4yKGkGWFfH3",
        "colab_type": "code",
        "outputId": "f9758be3-0928-4970-8143-8185c914847a",
        "colab": {
          "base_uri": "https://localhost:8080/",
          "height": 34
        }
      },
      "source": [
        "from sklearn import  linear_model\n",
        "clfli = linear_model.SGDClassifier(max_iter=1000, tol=1e-3)\n",
        "accuracy = cross_val_score(clfli,X_train,y_train,cv=10)\n",
        "accuracy.mean()"
      ],
      "execution_count": 0,
      "outputs": [
        {
          "output_type": "execute_result",
          "data": {
            "text/plain": [
              "0.7368134544131879"
            ]
          },
          "metadata": {
            "tags": []
          },
          "execution_count": 546
        }
      ]
    },
    {
      "cell_type": "code",
      "metadata": {
        "id": "xDEVwJd5FlUQ",
        "colab_type": "code",
        "outputId": "a1f9e190-c7f7-442f-c4f5-f5614f2a14db",
        "colab": {
          "base_uri": "https://localhost:8080/",
          "height": 34
        }
      },
      "source": [
        "y_predict =clfli.predict(x_val_norm)\n",
        "sum(y_predict == y_val)/len(y_val)"
      ],
      "execution_count": 0,
      "outputs": [
        {
          "output_type": "execute_result",
          "data": {
            "text/plain": [
              "0.6622073578595318"
            ]
          },
          "metadata": {
            "tags": []
          },
          "execution_count": 551
        }
      ]
    },
    {
      "cell_type": "markdown",
      "metadata": {
        "id": "D1lt2XxvGImK",
        "colab_type": "text"
      },
      "source": [
        "#Random Forest"
      ]
    },
    {
      "cell_type": "code",
      "metadata": {
        "id": "lSZEHWOdGDkS",
        "colab_type": "code",
        "outputId": "27fcab33-55ab-455e-b1b2-df1eb1d1444f",
        "colab": {
          "base_uri": "https://localhost:8080/",
          "height": 142
        }
      },
      "source": [
        " from sklearn.ensemble import RandomForestClassifier\n",
        "clfR = RandomForestClassifier(n_estimators=100, max_depth=2, random_state=0)\n",
        "clfR.fit(x_train_norm,y_train)\n"
      ],
      "execution_count": 0,
      "outputs": [
        {
          "output_type": "execute_result",
          "data": {
            "text/plain": [
              "RandomForestClassifier(bootstrap=True, class_weight=None, criterion='gini',\n",
              "                       max_depth=2, max_features='auto', max_leaf_nodes=None,\n",
              "                       min_impurity_decrease=0.0, min_impurity_split=None,\n",
              "                       min_samples_leaf=1, min_samples_split=2,\n",
              "                       min_weight_fraction_leaf=0.0, n_estimators=100,\n",
              "                       n_jobs=None, oob_score=False, random_state=0, verbose=0,\n",
              "                       warm_start=False)"
            ]
          },
          "metadata": {
            "tags": []
          },
          "execution_count": 552
        }
      ]
    },
    {
      "cell_type": "code",
      "metadata": {
        "id": "zsayLAzRGvGH",
        "colab_type": "code",
        "outputId": "51ea8249-6f34-40a8-e9cc-38c643c779aa",
        "colab": {
          "base_uri": "https://localhost:8080/",
          "height": 34
        }
      },
      "source": [
        " from sklearn.ensemble import RandomForestClassifier\n",
        "accuracy = cross_val_score(clfR,X_train,y_train,cv=5)\n",
        "accuracy.mean()\n"
      ],
      "execution_count": 0,
      "outputs": [
        {
          "output_type": "execute_result",
          "data": {
            "text/plain": [
              "0.7119013423128158"
            ]
          },
          "metadata": {
            "tags": []
          },
          "execution_count": 553
        }
      ]
    },
    {
      "cell_type": "code",
      "metadata": {
        "id": "nzuVBUYKG2S5",
        "colab_type": "code",
        "outputId": "d1227d44-2945-48f9-ed64-428596292720",
        "colab": {
          "base_uri": "https://localhost:8080/",
          "height": 34
        }
      },
      "source": [
        "y_predict =clfR.predict(x_val_norm)\n",
        "sum(y_predict == y_val)/len(y_val)"
      ],
      "execution_count": 0,
      "outputs": [
        {
          "output_type": "execute_result",
          "data": {
            "text/plain": [
              "0.7012263099219621"
            ]
          },
          "metadata": {
            "tags": []
          },
          "execution_count": 554
        }
      ]
    },
    {
      "cell_type": "markdown",
      "metadata": {
        "id": "aXm2iDVVHEMX",
        "colab_type": "text"
      },
      "source": [
        "#XGBoost"
      ]
    },
    {
      "cell_type": "code",
      "metadata": {
        "id": "zu9P8naPPlok",
        "colab_type": "code",
        "colab": {}
      },
      "source": [
        "from xgboost import XGBClassifier\n",
        "from sklearn.model_selection import cross_val_score\n",
        "clfX=XGBClassifier()\n"
      ],
      "execution_count": 0,
      "outputs": []
    },
    {
      "cell_type": "code",
      "metadata": {
        "id": "yHhibVPoL1h6",
        "colab_type": "code",
        "outputId": "72dc5b88-0050-44af-a676-32d189482528",
        "colab": {
          "base_uri": "https://localhost:8080/",
          "height": 34
        }
      },
      "source": [
        "\n",
        "accuracy= cross_val_score(clfX,X_train,y_train,cv=5)\n",
        "accuracy.mean()\n"
      ],
      "execution_count": 0,
      "outputs": [
        {
          "output_type": "execute_result",
          "data": {
            "text/plain": [
              "0.7974138033893505"
            ]
          },
          "metadata": {
            "tags": []
          },
          "execution_count": 556
        }
      ]
    },
    {
      "cell_type": "code",
      "metadata": {
        "id": "5f1sLERtUHsc",
        "colab_type": "code",
        "outputId": "5c4ec5f6-84ba-4991-d0f8-d2e0fdc2b7e9",
        "colab": {
          "base_uri": "https://localhost:8080/",
          "height": 142
        }
      },
      "source": [
        "clfX.fit(X_train_norm,y_train)"
      ],
      "execution_count": 0,
      "outputs": [
        {
          "output_type": "execute_result",
          "data": {
            "text/plain": [
              "XGBClassifier(base_score=0.5, booster='gbtree', colsample_bylevel=1,\n",
              "              colsample_bynode=1, colsample_bytree=1, gamma=0,\n",
              "              learning_rate=0.1, max_delta_step=0, max_depth=3,\n",
              "              min_child_weight=1, missing=None, n_estimators=100, n_jobs=1,\n",
              "              nthread=None, objective='binary:logistic', random_state=0,\n",
              "              reg_alpha=0, reg_lambda=1, scale_pos_weight=1, seed=None,\n",
              "              silent=None, subsample=1, verbosity=1)"
            ]
          },
          "metadata": {
            "tags": []
          },
          "execution_count": 557
        }
      ]
    },
    {
      "cell_type": "code",
      "metadata": {
        "id": "8sOFN9IMTy_b",
        "colab_type": "code",
        "outputId": "617005ad-a53f-4fa4-f397-f7db6f3794a7",
        "colab": {
          "base_uri": "https://localhost:8080/",
          "height": 34
        }
      },
      "source": [
        "y_predict =clfX.predict(x_val_norm)\n",
        "sum(y_predict == y_val)/len(y_val)"
      ],
      "execution_count": 0,
      "outputs": [
        {
          "output_type": "execute_result",
          "data": {
            "text/plain": [
              "0.798216276477146"
            ]
          },
          "metadata": {
            "tags": []
          },
          "execution_count": 519
        }
      ]
    },
    {
      "cell_type": "code",
      "metadata": {
        "id": "Q5jfd-LbysRb",
        "colab_type": "code",
        "colab": {}
      },
      "source": [
        ""
      ],
      "execution_count": 0,
      "outputs": []
    }
  ]
}