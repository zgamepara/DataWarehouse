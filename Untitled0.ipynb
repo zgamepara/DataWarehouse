{
  "nbformat": 4,
  "nbformat_minor": 0,
  "metadata": {
    "colab": {
      "name": "Untitled0.ipynb",
      "provenance": [],
      "include_colab_link": true
    },
    "kernelspec": {
      "name": "python3",
      "display_name": "Python 3"
    }
  },
  "cells": [
    {
      "cell_type": "markdown",
      "metadata": {
        "id": "view-in-github",
        "colab_type": "text"
      },
      "source": [
        "<a href=\"https://colab.research.google.com/github/zgamepara/DataWarehouse/blob/master/Untitled0.ipynb\" target=\"_parent\"><img src=\"https://colab.research.google.com/assets/colab-badge.svg\" alt=\"Open In Colab\"/></a>"
      ]
    },
    {
      "cell_type": "code",
      "metadata": {
        "id": "BQuMNJUriPLB",
        "colab_type": "code",
        "colab": {}
      },
      "source": [
        ""
      ],
      "execution_count": 0,
      "outputs": []
    },
    {
      "cell_type": "markdown",
      "metadata": {
        "id": "9kT3TE38iat_",
        "colab_type": "text"
      },
      "source": [
        "# Hello PyThon\n",
        "## Hello PyThon\n",
        "### Hello PyThon\n"
      ]
    },
    {
      "cell_type": "code",
      "metadata": {
        "id": "GgPEOEYBjBuy",
        "colab_type": "code",
        "colab": {
          "base_uri": "https://localhost:8080/",
          "height": 34
        },
        "outputId": "a07ce034-6281-46f6-fe1e-8f6775377a28"
      },
      "source": [
        "print(\"Hello World\")"
      ],
      "execution_count": 1,
      "outputs": [
        {
          "output_type": "stream",
          "text": [
            "Hello World\n"
          ],
          "name": "stdout"
        }
      ]
    },
    {
      "cell_type": "markdown",
      "metadata": {
        "id": "ggU_OKbpjVUf",
        "colab_type": "text"
      },
      "source": [
        "#Declare Variable\n",
        "How to declare variable in Python"
      ]
    },
    {
      "cell_type": "code",
      "metadata": {
        "id": "WA65tTmEi5RR",
        "colab_type": "code",
        "colab": {
          "base_uri": "https://localhost:8080/",
          "height": 34
        },
        "outputId": "0ca88121-84cb-4626-c282-fd3e3829ac9b"
      },
      "source": [
        "score = 100\n",
        "name = \"Paradorn\"\n",
        "print(\"Name is \"+ name + \" score is \"+ str(score))"
      ],
      "execution_count": 3,
      "outputs": [
        {
          "output_type": "stream",
          "text": [
            "Name is Paradorn score is 100\n"
          ],
          "name": "stdout"
        }
      ]
    },
    {
      "cell_type": "code",
      "metadata": {
        "id": "f4HClzZsj1kD",
        "colab_type": "code",
        "colab": {
          "base_uri": "https://localhost:8080/",
          "height": 34
        },
        "outputId": "7f3cb81d-6ad1-4796-8a38-0320becfca6e"
      },
      "source": [
        "a = 2\n",
        "b = 3\n",
        "c = a * b\n",
        "print(c)"
      ],
      "execution_count": 4,
      "outputs": [
        {
          "output_type": "stream",
          "text": [
            "6\n"
          ],
          "name": "stdout"
        }
      ]
    },
    {
      "cell_type": "markdown",
      "metadata": {
        "id": "JqRn82Nam170",
        "colab_type": "text"
      },
      "source": [
        "# List\n",
        "How to use list Python"
      ]
    },
    {
      "cell_type": "code",
      "metadata": {
        "id": "Zk8hhLXfm6lz",
        "colab_type": "code",
        "colab": {
          "base_uri": "https://localhost:8080/",
          "height": 34
        },
        "outputId": "e92bedcc-76b3-4966-e837-91eed2693759"
      },
      "source": [
        "mylist = []\n",
        "mylist.append(\"Paradorn\")\n",
        "mylist.append(200)\n",
        "mylist"
      ],
      "execution_count": 5,
      "outputs": [
        {
          "output_type": "execute_result",
          "data": {
            "text/plain": [
              "['Paradorn', 200]"
            ]
          },
          "metadata": {
            "tags": []
          },
          "execution_count": 5
        }
      ]
    },
    {
      "cell_type": "markdown",
      "metadata": {
        "id": "rI203mhjnVR0",
        "colab_type": "text"
      },
      "source": [
        "How to count data in list"
      ]
    },
    {
      "cell_type": "code",
      "metadata": {
        "id": "yRTvwbqdnaFl",
        "colab_type": "code",
        "colab": {
          "base_uri": "https://localhost:8080/",
          "height": 34
        },
        "outputId": "01c178b9-9930-4e8a-a993-91d698d982bf"
      },
      "source": [
        "len(mylist)"
      ],
      "execution_count": 6,
      "outputs": [
        {
          "output_type": "execute_result",
          "data": {
            "text/plain": [
              "2"
            ]
          },
          "metadata": {
            "tags": []
          },
          "execution_count": 6
        }
      ]
    },
    {
      "cell_type": "markdown",
      "metadata": {
        "id": "biMRFVcGn2Cd",
        "colab_type": "text"
      },
      "source": [
        "#If-Else Python\n",
        "How to use if-else in python\n"
      ]
    },
    {
      "cell_type": "code",
      "metadata": {
        "id": "yjcAkMEmneCT",
        "colab_type": "code",
        "colab": {
          "base_uri": "https://localhost:8080/",
          "height": 34
        },
        "outputId": "1d2aee25-880a-4398-da89-0797c08c77b2"
      },
      "source": [
        "if mylist[1] > 100 :\n",
        "  print(\"Pass\")"
      ],
      "execution_count": 7,
      "outputs": [
        {
          "output_type": "stream",
          "text": [
            "Pass\n"
          ],
          "name": "stdout"
        }
      ]
    },
    {
      "cell_type": "code",
      "metadata": {
        "id": "TBMSo5wuoW36",
        "colab_type": "code",
        "colab": {
          "base_uri": "https://localhost:8080/",
          "height": 34
        },
        "outputId": "8f6f4acf-b70c-423e-d0f8-b0377b24ff6a"
      },
      "source": [
        "if mylist[1] > 100 :\n",
        "  name = mylist[0]\n",
        "  score = mylist[1]\n",
        "  print(name+\" \"+str(score))"
      ],
      "execution_count": 9,
      "outputs": [
        {
          "output_type": "stream",
          "text": [
            "Paradorn 200\n"
          ],
          "name": "stdout"
        }
      ]
    },
    {
      "cell_type": "code",
      "metadata": {
        "id": "pWXRqwpxoqi7",
        "colab_type": "code",
        "colab": {
          "base_uri": "https://localhost:8080/",
          "height": 34
        },
        "outputId": "362db6fe-ce9d-4fc4-fd91-022a06fedc59"
      },
      "source": [
        "score = 5\n",
        "if score > 50 :\n",
        "  print(\"A\")\n",
        "elif score > 20 :\n",
        "  printf(\"B\")\n",
        "else:\n",
        "  print(\"C\")\n",
        "  if score == 0:\n",
        "    print(\"F\")"
      ],
      "execution_count": 11,
      "outputs": [
        {
          "output_type": "stream",
          "text": [
            "C\n"
          ],
          "name": "stdout"
        }
      ]
    },
    {
      "cell_type": "markdown",
      "metadata": {
        "id": "6wqk9JLpqmmS",
        "colab_type": "text"
      },
      "source": [
        "#For Loop in PyThon\n",
        "How to use loop in python"
      ]
    },
    {
      "cell_type": "code",
      "metadata": {
        "id": "65HC4A3VqlVQ",
        "colab_type": "code",
        "colab": {
          "base_uri": "https://localhost:8080/",
          "height": 34
        },
        "outputId": "7254bc46-4a68-4367-9455-03366e9db417"
      },
      "source": [
        "summation = []\n",
        "for i in range(0,10):\n",
        "  summation.append(i)\n",
        "sum(summation)"
      ],
      "execution_count": 13,
      "outputs": [
        {
          "output_type": "execute_result",
          "data": {
            "text/plain": [
              "45"
            ]
          },
          "metadata": {
            "tags": []
          },
          "execution_count": 13
        }
      ]
    },
    {
      "cell_type": "code",
      "metadata": {
        "id": "n4XmXybarUur",
        "colab_type": "code",
        "colab": {
          "base_uri": "https://localhost:8080/",
          "height": 187
        },
        "outputId": "18b4b746-869b-4bdf-f110-644f2aced602"
      },
      "source": [
        "summation = []\n",
        "for i in range(0,10):\n",
        "  a\n",
        "  summation.append(i)\n",
        "for i in summation:\n",
        "  print(str(i))"
      ],
      "execution_count": 14,
      "outputs": [
        {
          "output_type": "stream",
          "text": [
            "0\n",
            "1\n",
            "2\n",
            "3\n",
            "4\n",
            "5\n",
            "6\n",
            "7\n",
            "8\n",
            "9\n"
          ],
          "name": "stdout"
        }
      ]
    },
    {
      "cell_type": "code",
      "metadata": {
        "id": "vd4po7Hhrgho",
        "colab_type": "code",
        "colab": {
          "base_uri": "https://localhost:8080/",
          "height": 187
        },
        "outputId": "48f39099-869d-4033-b6d1-1b9e3dc350dd"
      },
      "source": [
        "for i in summation:\n",
        "  print(str(i))"
      ],
      "execution_count": 15,
      "outputs": [
        {
          "output_type": "stream",
          "text": [
            "0\n",
            "1\n",
            "2\n",
            "3\n",
            "4\n",
            "5\n",
            "6\n",
            "7\n",
            "8\n",
            "9\n"
          ],
          "name": "stdout"
        }
      ]
    },
    {
      "cell_type": "markdown",
      "metadata": {
        "id": "ik5nRlvPvZLe",
        "colab_type": "text"
      },
      "source": [
        "# NumPy\n",
        "Library for matrix operation"
      ]
    },
    {
      "cell_type": "markdown",
      "metadata": {
        "id": "sRtysXg6w_bA",
        "colab_type": "text"
      },
      "source": [
        "Load numpy library"
      ]
    },
    {
      "cell_type": "code",
      "metadata": {
        "id": "mVisV8E6vXId",
        "colab_type": "code",
        "colab": {}
      },
      "source": [
        "import numpy as np\n"
      ],
      "execution_count": 0,
      "outputs": []
    },
    {
      "cell_type": "code",
      "metadata": {
        "id": "eEeDvE_vw7Y-",
        "colab_type": "code",
        "colab": {
          "base_uri": "https://localhost:8080/",
          "height": 34
        },
        "outputId": "9fc9e305-e499-4745-9475-8a6c96eb7397"
      },
      "source": [
        "l = [1, 2, 3, 4, 5]\n",
        "np_array = np.array(l)\n",
        "type(np_array)"
      ],
      "execution_count": 17,
      "outputs": [
        {
          "output_type": "execute_result",
          "data": {
            "text/plain": [
              "numpy.ndarray"
            ]
          },
          "metadata": {
            "tags": []
          },
          "execution_count": 17
        }
      ]
    },
    {
      "cell_type": "code",
      "metadata": {
        "id": "5kHR1KSsxh4W",
        "colab_type": "code",
        "colab": {
          "base_uri": "https://localhost:8080/",
          "height": 68
        },
        "outputId": "068b43ce-9430-4c01-8fa6-b8cfb3bae5b1"
      },
      "source": [
        "np_matrix = np.array([[1,2],[3,4],[5,6]])\n",
        "np_matrix"
      ],
      "execution_count": 18,
      "outputs": [
        {
          "output_type": "execute_result",
          "data": {
            "text/plain": [
              "array([[1, 2],\n",
              "       [3, 4],\n",
              "       [5, 6]])"
            ]
          },
          "metadata": {
            "tags": []
          },
          "execution_count": 18
        }
      ]
    },
    {
      "cell_type": "code",
      "metadata": {
        "id": "y2TySIBwycv2",
        "colab_type": "code",
        "colab": {
          "base_uri": "https://localhost:8080/",
          "height": 34
        },
        "outputId": "312d1d81-f473-4f86-8d91-7f0896ab782e"
      },
      "source": [
        "np.size(np_matrix,0)"
      ],
      "execution_count": 19,
      "outputs": [
        {
          "output_type": "execute_result",
          "data": {
            "text/plain": [
              "3"
            ]
          },
          "metadata": {
            "tags": []
          },
          "execution_count": 19
        }
      ]
    },
    {
      "cell_type": "code",
      "metadata": {
        "id": "zRV6_jt_ylnW",
        "colab_type": "code",
        "colab": {
          "base_uri": "https://localhost:8080/",
          "height": 34
        },
        "outputId": "44dcd17f-42e9-4fe1-8c5e-64cfc576e294"
      },
      "source": [
        "np.size(np_matrix,1)"
      ],
      "execution_count": 20,
      "outputs": [
        {
          "output_type": "execute_result",
          "data": {
            "text/plain": [
              "2"
            ]
          },
          "metadata": {
            "tags": []
          },
          "execution_count": 20
        }
      ]
    },
    {
      "cell_type": "code",
      "metadata": {
        "id": "gCwu6fkCyqIF",
        "colab_type": "code",
        "colab": {
          "base_uri": "https://localhost:8080/",
          "height": 34
        },
        "outputId": "7355cfc1-9582-42f5-ee5f-c7a09cc393f9"
      },
      "source": [
        "np_matrix.shape"
      ],
      "execution_count": 22,
      "outputs": [
        {
          "output_type": "execute_result",
          "data": {
            "text/plain": [
              "(3, 2)"
            ]
          },
          "metadata": {
            "tags": []
          },
          "execution_count": 22
        }
      ]
    },
    {
      "cell_type": "code",
      "metadata": {
        "id": "CNLjQ9C6yuVd",
        "colab_type": "code",
        "colab": {
          "base_uri": "https://localhost:8080/",
          "height": 34
        },
        "outputId": "fd5f952d-f396-495f-e22b-1cee486dc675"
      },
      "source": [
        "np_matrix.ndim\n"
      ],
      "execution_count": 23,
      "outputs": [
        {
          "output_type": "execute_result",
          "data": {
            "text/plain": [
              "2"
            ]
          },
          "metadata": {
            "tags": []
          },
          "execution_count": 23
        }
      ]
    },
    {
      "cell_type": "code",
      "metadata": {
        "id": "mpySVG1iy0hu",
        "colab_type": "code",
        "colab": {
          "base_uri": "https://localhost:8080/",
          "height": 34
        },
        "outputId": "85b2ea4c-77e4-460e-876c-d39be1d8a320"
      },
      "source": [
        "np_matrix.size"
      ],
      "execution_count": 24,
      "outputs": [
        {
          "output_type": "execute_result",
          "data": {
            "text/plain": [
              "6"
            ]
          },
          "metadata": {
            "tags": []
          },
          "execution_count": 24
        }
      ]
    },
    {
      "cell_type": "code",
      "metadata": {
        "id": "rRvZbjKIy7NN",
        "colab_type": "code",
        "colab": {
          "base_uri": "https://localhost:8080/",
          "height": 68
        },
        "outputId": "3dc6276b-8a9b-4641-a041-15cf62847c5d"
      },
      "source": [
        "np_mix_matrix = np.array([['one',2],['three',4],['five',6]])\n",
        "np_mix_matrix"
      ],
      "execution_count": 26,
      "outputs": [
        {
          "output_type": "execute_result",
          "data": {
            "text/plain": [
              "array([['one', '2'],\n",
              "       ['three', '4'],\n",
              "       ['five', '6']], dtype='<U5')"
            ]
          },
          "metadata": {
            "tags": []
          },
          "execution_count": 26
        }
      ]
    },
    {
      "cell_type": "code",
      "metadata": {
        "id": "dMzLtXg4zXYl",
        "colab_type": "code",
        "colab": {
          "base_uri": "https://localhost:8080/",
          "height": 34
        },
        "outputId": "9699ea1d-e209-4d40-c915-a92520b67907"
      },
      "source": [
        "np_mix_matrix[0,1]"
      ],
      "execution_count": 28,
      "outputs": [
        {
          "output_type": "execute_result",
          "data": {
            "text/plain": [
              "'2'"
            ]
          },
          "metadata": {
            "tags": []
          },
          "execution_count": 28
        }
      ]
    },
    {
      "cell_type": "code",
      "metadata": {
        "id": "nQk7FRQL0R1d",
        "colab_type": "code",
        "colab": {
          "base_uri": "https://localhost:8080/",
          "height": 34
        },
        "outputId": "b7d4fb6d-a2d7-4305-9365-7eeb2f73f3d4"
      },
      "source": [
        "np_mix_matrix[:,0]"
      ],
      "execution_count": 29,
      "outputs": [
        {
          "output_type": "execute_result",
          "data": {
            "text/plain": [
              "array(['one', 'three', 'five'], dtype='<U5')"
            ]
          },
          "metadata": {
            "tags": []
          },
          "execution_count": 29
        }
      ]
    },
    {
      "cell_type": "code",
      "metadata": {
        "id": "_2o0lTwb0u9V",
        "colab_type": "code",
        "colab": {
          "base_uri": "https://localhost:8080/",
          "height": 34
        },
        "outputId": "41dd5612-24be-4fe9-ebc1-409f3e52ac2c"
      },
      "source": [
        "np_mix_matrix[0,]"
      ],
      "execution_count": 30,
      "outputs": [
        {
          "output_type": "execute_result",
          "data": {
            "text/plain": [
              "array(['one', '2'], dtype='<U5')"
            ]
          },
          "metadata": {
            "tags": []
          },
          "execution_count": 30
        }
      ]
    },
    {
      "cell_type": "code",
      "metadata": {
        "id": "lhg7iMzI05Xe",
        "colab_type": "code",
        "colab": {
          "base_uri": "https://localhost:8080/",
          "height": 51
        },
        "outputId": "57a901e6-214e-481b-b56b-b1361d2a3d3c"
      },
      "source": [
        "np_mix_matrix[0:2,]"
      ],
      "execution_count": 31,
      "outputs": [
        {
          "output_type": "execute_result",
          "data": {
            "text/plain": [
              "array([['one', '2'],\n",
              "       ['three', '4']], dtype='<U5')"
            ]
          },
          "metadata": {
            "tags": []
          },
          "execution_count": 31
        }
      ]
    },
    {
      "cell_type": "code",
      "metadata": {
        "id": "8ZZmuCbh18_H",
        "colab_type": "code",
        "colab": {
          "base_uri": "https://localhost:8080/",
          "height": 34
        },
        "outputId": "0e1850c7-3c99-4e40-8d2d-8bbc15a07c8a"
      },
      "source": [
        "np.array(np_mix_matrix[:,1], dtype = int)"
      ],
      "execution_count": 32,
      "outputs": [
        {
          "output_type": "execute_result",
          "data": {
            "text/plain": [
              "array([2, 4, 6])"
            ]
          },
          "metadata": {
            "tags": []
          },
          "execution_count": 32
        }
      ]
    },
    {
      "cell_type": "code",
      "metadata": {
        "id": "o3lG5IgW2Jcf",
        "colab_type": "code",
        "colab": {
          "base_uri": "https://localhost:8080/",
          "height": 51
        },
        "outputId": "126cd54d-437f-40e3-dd42-481f049aefe3"
      },
      "source": [
        "np.zeros([2,3])"
      ],
      "execution_count": 33,
      "outputs": [
        {
          "output_type": "execute_result",
          "data": {
            "text/plain": [
              "array([[0., 0., 0.],\n",
              "       [0., 0., 0.]])"
            ]
          },
          "metadata": {
            "tags": []
          },
          "execution_count": 33
        }
      ]
    },
    {
      "cell_type": "code",
      "metadata": {
        "id": "BJyS9cpn2aY-",
        "colab_type": "code",
        "colab": {
          "base_uri": "https://localhost:8080/",
          "height": 102
        },
        "outputId": "e5804d3a-6b59-40d5-ec9e-cc0ab018b347"
      },
      "source": [
        "np.ones([5,5])"
      ],
      "execution_count": 35,
      "outputs": [
        {
          "output_type": "execute_result",
          "data": {
            "text/plain": [
              "array([[1., 1., 1., 1., 1.],\n",
              "       [1., 1., 1., 1., 1.],\n",
              "       [1., 1., 1., 1., 1.],\n",
              "       [1., 1., 1., 1., 1.],\n",
              "       [1., 1., 1., 1., 1.]])"
            ]
          },
          "metadata": {
            "tags": []
          },
          "execution_count": 35
        }
      ]
    },
    {
      "cell_type": "code",
      "metadata": {
        "id": "DqDSkyjq2ePa",
        "colab_type": "code",
        "colab": {
          "base_uri": "https://localhost:8080/",
          "height": 102
        },
        "outputId": "ad0acef5-6f40-4d9a-d365-40214688a105"
      },
      "source": [
        "np.eye(5)"
      ],
      "execution_count": 36,
      "outputs": [
        {
          "output_type": "execute_result",
          "data": {
            "text/plain": [
              "array([[1., 0., 0., 0., 0.],\n",
              "       [0., 1., 0., 0., 0.],\n",
              "       [0., 0., 1., 0., 0.],\n",
              "       [0., 0., 0., 1., 0.],\n",
              "       [0., 0., 0., 0., 1.]])"
            ]
          },
          "metadata": {
            "tags": []
          },
          "execution_count": 36
        }
      ]
    },
    {
      "cell_type": "code",
      "metadata": {
        "id": "wbqLQqkZ2qVx",
        "colab_type": "code",
        "colab": {
          "base_uri": "https://localhost:8080/",
          "height": 102
        },
        "outputId": "56091240-0079-4261-81b5-6c5a096faa26"
      },
      "source": [
        "np.empty([5,5])"
      ],
      "execution_count": 39,
      "outputs": [
        {
          "output_type": "execute_result",
          "data": {
            "text/plain": [
              "array([[0.79421351, 0.9991241 , 0.43459   , 0.88962934, 0.74878294],\n",
              "       [0.72324371, 0.19613715, 0.85824184, 0.74727866, 0.90047925],\n",
              "       [0.96346424, 0.90618698, 0.67118063, 0.4910552 , 0.43997665],\n",
              "       [0.94188519, 0.89351879, 0.83895134, 0.9460353 , 0.7173747 ],\n",
              "       [0.24302036, 0.18476922, 0.28702126, 0.50205843, 0.19603107]])"
            ]
          },
          "metadata": {
            "tags": []
          },
          "execution_count": 39
        }
      ]
    },
    {
      "cell_type": "code",
      "metadata": {
        "id": "eMH7B6UR2tt_",
        "colab_type": "code",
        "colab": {
          "base_uri": "https://localhost:8080/",
          "height": 102
        },
        "outputId": "e490f97e-1b01-4c8e-aadd-0e7e1a93ab9f"
      },
      "source": [
        "np.random.rand(5,5)"
      ],
      "execution_count": 38,
      "outputs": [
        {
          "output_type": "execute_result",
          "data": {
            "text/plain": [
              "array([[0.79421351, 0.9991241 , 0.43459   , 0.88962934, 0.74878294],\n",
              "       [0.72324371, 0.19613715, 0.85824184, 0.74727866, 0.90047925],\n",
              "       [0.96346424, 0.90618698, 0.67118063, 0.4910552 , 0.43997665],\n",
              "       [0.94188519, 0.89351879, 0.83895134, 0.9460353 , 0.7173747 ],\n",
              "       [0.24302036, 0.18476922, 0.28702126, 0.50205843, 0.19603107]])"
            ]
          },
          "metadata": {
            "tags": []
          },
          "execution_count": 38
        }
      ]
    },
    {
      "cell_type": "code",
      "metadata": {
        "id": "flyaZAPA28rG",
        "colab_type": "code",
        "colab": {
          "base_uri": "https://localhost:8080/",
          "height": 68
        },
        "outputId": "4f0fa167-6411-41ed-e940-755bb3734c1d"
      },
      "source": [
        "np.random.randint(5,size = (3,3))"
      ],
      "execution_count": 40,
      "outputs": [
        {
          "output_type": "execute_result",
          "data": {
            "text/plain": [
              "array([[3, 3, 2],\n",
              "       [3, 3, 1],\n",
              "       [2, 3, 4]])"
            ]
          },
          "metadata": {
            "tags": []
          },
          "execution_count": 40
        }
      ]
    },
    {
      "cell_type": "code",
      "metadata": {
        "id": "BeDgVjvR3Erx",
        "colab_type": "code",
        "colab": {
          "base_uri": "https://localhost:8080/",
          "height": 215
        },
        "outputId": "254f1993-bb1f-4d7b-84a8-5e2475849028"
      },
      "source": [
        "import matplotlib.pyplot as plt\n",
        "fig, axes = plt.subplots(1,2,figsize=(8,3))\n",
        "axes[0].hist(np.random.rand(1000))\n",
        "axes[1].hist(np.random.randn(1000))\n",
        "plt.show()"
      ],
      "execution_count": 41,
      "outputs": [
        {
          "output_type": "display_data",
          "data": {
            "image/png": "[encoded data removed]",
            "text/plain": [
              "<Figure size 576x216 with 2 Axes>"
            ]
          },
          "metadata": {
            "tags": []
          }
        }
      ]
    },
    {
      "cell_type": "code",
      "metadata": {
        "id": "35E7ZaAG3xlP",
        "colab_type": "code",
        "colab": {
          "base_uri": "https://localhost:8080/",
          "height": 34
        },
        "outputId": "94c72bff-6688-4a0e-bd34-9d748ff57973"
      },
      "source": [
        "np.random.choice(5,3,replace = False)"
      ],
      "execution_count": 42,
      "outputs": [
        {
          "output_type": "execute_result",
          "data": {
            "text/plain": [
              "array([0, 4, 3])"
            ]
          },
          "metadata": {
            "tags": []
          },
          "execution_count": 42
        }
      ]
    },
    {
      "cell_type": "code",
      "metadata": {
        "id": "cSIJ7Som360m",
        "colab_type": "code",
        "colab": {
          "base_uri": "https://localhost:8080/",
          "height": 68
        },
        "outputId": "bcb56d21-7fc9-4d03-97a5-0d848fcd87bb"
      },
      "source": [
        "np_matrix = np.random.rand(5,5)\n",
        "idx_choose = np.random.choice(5,3,replace = False)\n",
        "np_matrix_choose = np_matrix[idx_choose,:]\n",
        "np_matrix_choose"
      ],
      "execution_count": 44,
      "outputs": [
        {
          "output_type": "execute_result",
          "data": {
            "text/plain": [
              "array([[0.91475114, 0.8749728 , 0.69018881, 0.99121444, 0.28069142],\n",
              "       [0.97913459, 0.68711709, 0.04004591, 0.95281671, 0.95035882],\n",
              "       [0.29514645, 0.52864325, 0.58678855, 0.06227892, 0.25204681]])"
            ]
          },
          "metadata": {
            "tags": []
          },
          "execution_count": 44
        }
      ]
    },
    {
      "cell_type": "code",
      "metadata": {
        "id": "kyWsDXGA4ZLv",
        "colab_type": "code",
        "colab": {
          "base_uri": "https://localhost:8080/",
          "height": 34
        },
        "outputId": "ca27de64-4878-4606-d161-fe3061a4b6ab"
      },
      "source": [
        "name = [\"A\",\"B\",\"C\",\"D\"]\n",
        "np.random.choice(name,3)"
      ],
      "execution_count": 45,
      "outputs": [
        {
          "output_type": "execute_result",
          "data": {
            "text/plain": [
              "array(['A', 'C', 'D'], dtype='<U1')"
            ]
          },
          "metadata": {
            "tags": []
          },
          "execution_count": 45
        }
      ]
    },
    {
      "cell_type": "markdown",
      "metadata": {
        "id": "ni9_8MTvA6YL",
        "colab_type": "text"
      },
      "source": [
        "# EX 1"
      ]
    },
    {
      "cell_type": "code",
      "metadata": {
        "id": "0_suJ3P26RqH",
        "colab_type": "code",
        "colab": {
          "base_uri": "https://localhost:8080/",
          "height": 187
        },
        "outputId": "328eb271-ec07-4eaa-817f-ecbe9cfa3cb7"
      },
      "source": [
        "z = np.random.rand(10,5)\n",
        "x = np.random.choice(2,10)\n",
        "z[:,4] = x\n",
        "z"
      ],
      "execution_count": 49,
      "outputs": [
        {
          "output_type": "execute_result",
          "data": {
            "text/plain": [
              "array([[0.41614527, 0.3066247 , 0.07949526, 0.32879334, 1.        ],\n",
              "       [0.31957157, 0.7541666 , 0.18418463, 0.94824731, 1.        ],\n",
              "       [0.01001031, 0.55672138, 0.89661617, 0.25334006, 0.        ],\n",
              "       [0.39450872, 0.20459047, 0.4955164 , 0.37844219, 0.        ],\n",
              "       [0.12506118, 0.7781756 , 0.39845863, 0.27137655, 0.        ],\n",
              "       [0.09705575, 0.37163001, 0.16838913, 0.38504069, 0.        ],\n",
              "       [0.42186271, 0.20415705, 0.43946683, 0.38470975, 0.        ],\n",
              "       [0.92637586, 0.34292606, 0.39262729, 0.52011817, 1.        ],\n",
              "       [0.84594118, 0.8314019 , 0.41897078, 0.58572439, 1.        ],\n",
              "       [0.65242515, 0.00217537, 0.56313588, 0.81588199, 0.        ]])"
            ]
          },
          "metadata": {
            "tags": []
          },
          "execution_count": 49
        }
      ]
    },
    {
      "cell_type": "markdown",
      "metadata": {
        "id": "Psjw5Y-GA0Uz",
        "colab_type": "text"
      },
      "source": [
        "# EX 2"
      ]
    },
    {
      "cell_type": "code",
      "metadata": {
        "id": "5N_3qAzJ7EWg",
        "colab_type": "code",
        "colab": {
          "base_uri": "https://localhost:8080/",
          "height": 187
        },
        "outputId": "82a79c21-4e65-4f2b-bcef-6d767691bd9d"
      },
      "source": [
        "z = np.random.rand(10,5)\n",
        "z"
      ],
      "execution_count": 50,
      "outputs": [
        {
          "output_type": "execute_result",
          "data": {
            "text/plain": [
              "array([[0.38383237, 0.11021947, 0.9342503 , 0.61600306, 0.8097994 ],\n",
              "       [0.07082312, 0.49591724, 0.98920894, 0.71921448, 0.85351318],\n",
              "       [0.41109706, 0.79910735, 0.57054172, 0.67975793, 0.56287383],\n",
              "       [0.48667944, 0.40857903, 0.47740243, 0.05256597, 0.46706834],\n",
              "       [0.4723945 , 0.55673083, 0.91775969, 0.59796013, 0.58707033],\n",
              "       [0.32782627, 0.4758316 , 0.25861061, 0.22968759, 0.87157437],\n",
              "       [0.31196607, 0.10879979, 0.37667712, 0.66063392, 0.77797016],\n",
              "       [0.36353637, 0.29460604, 0.96820398, 0.13609549, 0.01915091],\n",
              "       [0.54241772, 0.03210219, 0.96337908, 0.28189287, 0.48335234],\n",
              "       [0.85913277, 0.96698429, 0.61679545, 0.08150321, 0.20527386]])"
            ]
          },
          "metadata": {
            "tags": []
          },
          "execution_count": 50
        }
      ]
    },
    {
      "cell_type": "code",
      "metadata": {
        "id": "3eItP99T_426",
        "colab_type": "code",
        "colab": {
          "base_uri": "https://localhost:8080/",
          "height": 34
        },
        "outputId": "0dbf8a30-df60-4999-edee-9d108611409a"
      },
      "source": [
        "x = np.random.choice(3,10)\n",
        "x"
      ],
      "execution_count": 52,
      "outputs": [
        {
          "output_type": "execute_result",
          "data": {
            "text/plain": [
              "array([1, 1, 0, 0, 1, 2, 1, 2, 2, 1])"
            ]
          },
          "metadata": {
            "tags": []
          },
          "execution_count": 52
        }
      ]
    },
    {
      "cell_type": "code",
      "metadata": {
        "id": "eMXQr-Ym_8qY",
        "colab_type": "code",
        "colab": {
          "base_uri": "https://localhost:8080/",
          "height": 68
        },
        "outputId": "6e13777c-551b-4a26-de60-397eea06f20c"
      },
      "source": [
        "c = np.where(x == 2 )\n",
        "z[c,:]"
      ],
      "execution_count": 54,
      "outputs": [
        {
          "output_type": "execute_result",
          "data": {
            "text/plain": [
              "array([[[0.32782627, 0.4758316 , 0.25861061, 0.22968759, 0.87157437],\n",
              "        [0.36353637, 0.29460604, 0.96820398, 0.13609549, 0.01915091],\n",
              "        [0.54241772, 0.03210219, 0.96337908, 0.28189287, 0.48335234]]])"
            ]
          },
          "metadata": {
            "tags": []
          },
          "execution_count": 54
        }
      ]
    },
    {
      "cell_type": "code",
      "metadata": {
        "id": "KPN1GCaTAcrQ",
        "colab_type": "code",
        "colab": {}
      },
      "source": [
        ""
      ],
      "execution_count": 0,
      "outputs": []
    }
  ]
}